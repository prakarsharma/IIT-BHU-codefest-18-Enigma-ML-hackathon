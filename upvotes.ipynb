{
 "cells": [
  {
   "cell_type": "code",
   "execution_count": 1,
   "metadata": {},
   "outputs": [],
   "source": [
    "import pandas as pd\n",
    "import numpy as np"
   ]
  },
  {
   "cell_type": "code",
   "execution_count": 2,
   "metadata": {},
   "outputs": [],
   "source": [
    "train=pd.read_csv('train_NIR5Yl1.csv')"
   ]
  },
  {
   "cell_type": "code",
   "execution_count": 3,
   "metadata": {},
   "outputs": [
    {
     "data": {
      "text/plain": [
       "(330045, 7)"
      ]
     },
     "execution_count": 3,
     "metadata": {},
     "output_type": "execute_result"
    }
   ],
   "source": [
    "train.shape"
   ]
  },
  {
   "cell_type": "code",
   "execution_count": 4,
   "metadata": {},
   "outputs": [
    {
     "data": {
      "text/html": [
       "<div>\n",
       "<table border=\"1\" class=\"dataframe\">\n",
       "  <thead>\n",
       "    <tr style=\"text-align: right;\">\n",
       "      <th></th>\n",
       "      <th>ID</th>\n",
       "      <th>Tag</th>\n",
       "      <th>Reputation</th>\n",
       "      <th>Answers</th>\n",
       "      <th>Username</th>\n",
       "      <th>Views</th>\n",
       "      <th>Upvotes</th>\n",
       "    </tr>\n",
       "  </thead>\n",
       "  <tbody>\n",
       "    <tr>\n",
       "      <th>0</th>\n",
       "      <td>52664</td>\n",
       "      <td>a</td>\n",
       "      <td>3942</td>\n",
       "      <td>2</td>\n",
       "      <td>155623</td>\n",
       "      <td>7855</td>\n",
       "      <td>42</td>\n",
       "    </tr>\n",
       "    <tr>\n",
       "      <th>1</th>\n",
       "      <td>327662</td>\n",
       "      <td>a</td>\n",
       "      <td>26046</td>\n",
       "      <td>12</td>\n",
       "      <td>21781</td>\n",
       "      <td>55801</td>\n",
       "      <td>1175</td>\n",
       "    </tr>\n",
       "    <tr>\n",
       "      <th>2</th>\n",
       "      <td>468453</td>\n",
       "      <td>c</td>\n",
       "      <td>1358</td>\n",
       "      <td>4</td>\n",
       "      <td>56177</td>\n",
       "      <td>8067</td>\n",
       "      <td>60</td>\n",
       "    </tr>\n",
       "    <tr>\n",
       "      <th>3</th>\n",
       "      <td>96996</td>\n",
       "      <td>a</td>\n",
       "      <td>264</td>\n",
       "      <td>3</td>\n",
       "      <td>168793</td>\n",
       "      <td>27064</td>\n",
       "      <td>9</td>\n",
       "    </tr>\n",
       "    <tr>\n",
       "      <th>4</th>\n",
       "      <td>131465</td>\n",
       "      <td>c</td>\n",
       "      <td>4271</td>\n",
       "      <td>4</td>\n",
       "      <td>112223</td>\n",
       "      <td>13986</td>\n",
       "      <td>83</td>\n",
       "    </tr>\n",
       "  </tbody>\n",
       "</table>\n",
       "</div>"
      ],
      "text/plain": [
       "       ID Tag  Reputation  Answers  Username  Views  Upvotes\n",
       "0   52664   a        3942        2    155623   7855       42\n",
       "1  327662   a       26046       12     21781  55801     1175\n",
       "2  468453   c        1358        4     56177   8067       60\n",
       "3   96996   a         264        3    168793  27064        9\n",
       "4  131465   c        4271        4    112223  13986       83"
      ]
     },
     "execution_count": 4,
     "metadata": {},
     "output_type": "execute_result"
    }
   ],
   "source": [
    "train.head()"
   ]
  },
  {
   "cell_type": "markdown",
   "metadata": {},
   "source": [
    "### missing"
   ]
  },
  {
   "cell_type": "code",
   "execution_count": 5,
   "metadata": {},
   "outputs": [
    {
     "data": {
      "text/plain": [
       "ID            0\n",
       "Tag           0\n",
       "Reputation    0\n",
       "Answers       0\n",
       "Username      0\n",
       "Views         0\n",
       "Upvotes       0\n",
       "dtype: float64"
      ]
     },
     "execution_count": 5,
     "metadata": {},
     "output_type": "execute_result"
    }
   ],
   "source": [
    "np.sum(train.isnull())/train.shape[0]"
   ]
  },
  {
   "cell_type": "code",
   "execution_count": 6,
   "metadata": {},
   "outputs": [
    {
     "data": {
      "text/plain": [
       "ID              int64\n",
       "Tag            object\n",
       "Reputation    float64\n",
       "Answers       float64\n",
       "Username        int64\n",
       "Views         float64\n",
       "Upvotes       float64\n",
       "dtype: object"
      ]
     },
     "execution_count": 6,
     "metadata": {},
     "output_type": "execute_result"
    }
   ],
   "source": [
    "train.dtypes"
   ]
  },
  {
   "cell_type": "markdown",
   "metadata": {},
   "source": [
    "### dependent variable"
   ]
  },
  {
   "cell_type": "code",
   "execution_count": 7,
   "metadata": {},
   "outputs": [
    {
     "data": {
      "text/plain": [
       "-2.3025850929940455"
      ]
     },
     "execution_count": 7,
     "metadata": {},
     "output_type": "execute_result"
    }
   ],
   "source": [
    "dv=train.Upvotes.values\n",
    "dv[dv==0]=0.1\n",
    "dv=np.log(dv)\n",
    "np.min(dv)"
   ]
  },
  {
   "cell_type": "markdown",
   "metadata": {},
   "source": [
    "### variables"
   ]
  },
  {
   "cell_type": "code",
   "execution_count": 8,
   "metadata": {},
   "outputs": [
    {
     "data": {
      "text/plain": [
       "array(['a', 'c', 'r', 'j', 'p', 's', 'h', 'o', 'i', 'x'], dtype=object)"
      ]
     },
     "execution_count": 8,
     "metadata": {},
     "output_type": "execute_result"
    }
   ],
   "source": [
    "pd.unique(train.Tag.values.ravel())"
   ]
  },
  {
   "cell_type": "code",
   "execution_count": 9,
   "metadata": {},
   "outputs": [],
   "source": [
    "#train2=train.drop(['ID','Username','Upvotes'],axis=1)"
   ]
  },
  {
   "cell_type": "code",
   "execution_count": 10,
   "metadata": {},
   "outputs": [],
   "source": [
    "train2=train.drop(['ID','Upvotes'],axis=1)"
   ]
  },
  {
   "cell_type": "code",
   "execution_count": 11,
   "metadata": {},
   "outputs": [],
   "source": [
    "train2['Tag']=train2.Tag.astype('category').cat.codes"
   ]
  },
  {
   "cell_type": "code",
   "execution_count": 12,
   "metadata": {},
   "outputs": [
    {
     "data": {
      "text/plain": [
       "array([0, 1, 7, 4, 6, 8, 2, 5, 3, 9], dtype=int64)"
      ]
     },
     "execution_count": 12,
     "metadata": {},
     "output_type": "execute_result"
    }
   ],
   "source": [
    "pd.unique(train2.Tag.values.ravel())"
   ]
  },
  {
   "cell_type": "code",
   "execution_count": 13,
   "metadata": {},
   "outputs": [
    {
     "data": {
      "text/html": [
       "<div>\n",
       "<table border=\"1\" class=\"dataframe\">\n",
       "  <thead>\n",
       "    <tr style=\"text-align: right;\">\n",
       "      <th></th>\n",
       "      <th>Tag</th>\n",
       "      <th>Reputation</th>\n",
       "      <th>Answers</th>\n",
       "      <th>Username</th>\n",
       "      <th>Views</th>\n",
       "    </tr>\n",
       "  </thead>\n",
       "  <tbody>\n",
       "    <tr>\n",
       "      <th>0</th>\n",
       "      <td>0</td>\n",
       "      <td>3942</td>\n",
       "      <td>2</td>\n",
       "      <td>155623</td>\n",
       "      <td>7855</td>\n",
       "    </tr>\n",
       "    <tr>\n",
       "      <th>1</th>\n",
       "      <td>0</td>\n",
       "      <td>26046</td>\n",
       "      <td>12</td>\n",
       "      <td>21781</td>\n",
       "      <td>55801</td>\n",
       "    </tr>\n",
       "    <tr>\n",
       "      <th>2</th>\n",
       "      <td>1</td>\n",
       "      <td>1358</td>\n",
       "      <td>4</td>\n",
       "      <td>56177</td>\n",
       "      <td>8067</td>\n",
       "    </tr>\n",
       "    <tr>\n",
       "      <th>3</th>\n",
       "      <td>0</td>\n",
       "      <td>264</td>\n",
       "      <td>3</td>\n",
       "      <td>168793</td>\n",
       "      <td>27064</td>\n",
       "    </tr>\n",
       "    <tr>\n",
       "      <th>4</th>\n",
       "      <td>1</td>\n",
       "      <td>4271</td>\n",
       "      <td>4</td>\n",
       "      <td>112223</td>\n",
       "      <td>13986</td>\n",
       "    </tr>\n",
       "  </tbody>\n",
       "</table>\n",
       "</div>"
      ],
      "text/plain": [
       "   Tag  Reputation  Answers  Username  Views\n",
       "0    0        3942        2    155623   7855\n",
       "1    0       26046       12     21781  55801\n",
       "2    1        1358        4     56177   8067\n",
       "3    0         264        3    168793  27064\n",
       "4    1        4271        4    112223  13986"
      ]
     },
     "execution_count": 13,
     "metadata": {},
     "output_type": "execute_result"
    }
   ],
   "source": [
    "train2.head()"
   ]
  },
  {
   "cell_type": "code",
   "execution_count": null,
   "metadata": {},
   "outputs": [],
   "source": []
  },
  {
   "cell_type": "markdown",
   "metadata": {},
   "source": [
    "from sklearn.cross_validation import train_test_split"
   ]
  },
  {
   "cell_type": "markdown",
   "metadata": {},
   "source": [
    "devi=train_test_split(train2.index,test_size=0.3,random_state=1615)[0]\n",
    "vali=train_test_split(train2.index,test_size=0.3,random_state=1615)[1]"
   ]
  },
  {
   "cell_type": "markdown",
   "metadata": {},
   "source": [
    "dev=train2.iloc[devi,:]\n",
    "val=train2.iloc[vali,:]"
   ]
  },
  {
   "cell_type": "markdown",
   "metadata": {},
   "source": [
    "devdv=dv[devi]\n",
    "valdv=dv[vali]"
   ]
  },
  {
   "cell_type": "markdown",
   "metadata": {},
   "source": [
    "from sklearn.linear_model import LinearRegression"
   ]
  },
  {
   "cell_type": "markdown",
   "metadata": {},
   "source": [
    "model = LinearRegression(n_jobs=4)"
   ]
  },
  {
   "cell_type": "markdown",
   "metadata": {},
   "source": [
    "LR=model.fit(dev.values,devdv)"
   ]
  },
  {
   "cell_type": "markdown",
   "metadata": {},
   "source": [
    "LR.score(val,valdv)"
   ]
  },
  {
   "cell_type": "markdown",
   "metadata": {},
   "source": [
    "pred=LR.predict(val.values)"
   ]
  },
  {
   "cell_type": "markdown",
   "metadata": {},
   "source": [
    "from sklearn.metrics import mean_squared_error"
   ]
  },
  {
   "cell_type": "markdown",
   "metadata": {},
   "source": [
    "np.sqrt(mean_squared_error(valdv,pred))"
   ]
  },
  {
   "cell_type": "markdown",
   "metadata": {},
   "source": [
    "from sklearn.ensemble import RandomForestRegressor"
   ]
  },
  {
   "cell_type": "markdown",
   "metadata": {},
   "source": [
    "model2 = RandomForestRegressor(n_jobs=1,random_state=2551,verbose=0)"
   ]
  },
  {
   "cell_type": "markdown",
   "metadata": {},
   "source": [
    "from sklearn.grid_search import GridSearchCV"
   ]
  },
  {
   "cell_type": "markdown",
   "metadata": {},
   "source": [
    "GS = GridSearchCV(model2,{'min_samples_leaf':[100,200],'max_depth':[5,7,9],'max_features':[0.4,0.6,0.8],'n_estimators':[500,700,900]},n_jobs=4,cv=5,verbose=100)"
   ]
  },
  {
   "cell_type": "markdown",
   "metadata": {
    "collapsed": true
   },
   "source": [
    "RF=model2.fit(dev.values,devdv)"
   ]
  },
  {
   "cell_type": "markdown",
   "metadata": {
    "collapsed": true
   },
   "source": [
    "RF.score(val.values,valdv)"
   ]
  },
  {
   "cell_type": "markdown",
   "metadata": {
    "collapsed": true
   },
   "source": [
    "GS.fit(dev.values,devdv)"
   ]
  },
  {
   "cell_type": "markdown",
   "metadata": {
    "collapsed": true
   },
   "source": [
    "print(GS.best_params_)\n",
    "print(GS.best_score_)"
   ]
  },
  {
   "cell_type": "markdown",
   "metadata": {},
   "source": [
    "GS2 = GridSearchCV(model2,{'min_samples_leaf':[100],'max_depth':[9,11,13],'max_features':[0.7,0.8,0.9],'n_estimators':[600,700,800]},n_jobs=4,cv=5,verbose=10000)"
   ]
  },
  {
   "cell_type": "markdown",
   "metadata": {
    "collapsed": true
   },
   "source": [
    "GS2.fit(dev.values,devdv)"
   ]
  },
  {
   "cell_type": "markdown",
   "metadata": {},
   "source": [
    "print(GS2.best_params_)\n",
    "print(GS2.best_score_)"
   ]
  },
  {
   "cell_type": "markdown",
   "metadata": {},
   "source": [
    "model2 = RandomForestRegressor(n_estimators=700,max_depth=11,min_samples_leaf=100,max_features=0.8,n_jobs=4,random_state=2551,verbose=10000)"
   ]
  },
  {
   "cell_type": "markdown",
   "metadata": {
    "collapsed": true
   },
   "source": [
    "RF=model2.fit(dev.values,devdv)"
   ]
  },
  {
   "cell_type": "markdown",
   "metadata": {
    "collapsed": true
   },
   "source": [
    "RF.score(val.values,valdv)"
   ]
  },
  {
   "cell_type": "markdown",
   "metadata": {
    "collapsed": true
   },
   "source": [
    "pred=RF.predict(val.values)"
   ]
  },
  {
   "cell_type": "markdown",
   "metadata": {},
   "source": [
    "np.sqrt(mean_squared_error(valdv,pred))"
   ]
  },
  {
   "cell_type": "markdown",
   "metadata": {},
   "source": [
    "test=pd.read_csv('test_8i3B3FC.csv')"
   ]
  },
  {
   "cell_type": "markdown",
   "metadata": {},
   "source": [
    "test.columns"
   ]
  },
  {
   "cell_type": "markdown",
   "metadata": {},
   "source": [
    "pd.unique(test.Tag.values.ravel())"
   ]
  },
  {
   "cell_type": "markdown",
   "metadata": {},
   "source": [
    "test2=test.drop(['ID','Username'],axis=1)"
   ]
  },
  {
   "cell_type": "markdown",
   "metadata": {},
   "source": [
    "pd.Categorical.from_codes(codes=pd.unique(train2.Tag.values.ravel()),categories=pd.unique(train.Tag.values.ravel()))"
   ]
  },
  {
   "cell_type": "markdown",
   "metadata": {},
   "source": [
    "test2['Tag']=test2.Tag.astype('category').cat.codes"
   ]
  },
  {
   "cell_type": "markdown",
   "metadata": {},
   "source": [
    "pd.unique(test2.Tag.values.ravel())"
   ]
  },
  {
   "cell_type": "markdown",
   "metadata": {
    "collapsed": true
   },
   "source": [
    "pred=RF.predict(test2.values)"
   ]
  },
  {
   "cell_type": "markdown",
   "metadata": {},
   "source": [
    "pred=LR.predict(test2.values)"
   ]
  },
  {
   "cell_type": "markdown",
   "metadata": {},
   "source": [
    "pred=np.round(pred)\n",
    "sub1=pd.concat([test,pd.Series(pred)],axis=1)\n",
    "sub2=pd.DataFrame({'ID':test.ID.values,'Upvotes':pred})\n",
    "sub2.to_csv('submission2.csv',index=False)"
   ]
  },
  {
   "cell_type": "markdown",
   "metadata": {},
   "source": [
    "### variables creation"
   ]
  },
  {
   "cell_type": "markdown",
   "metadata": {},
   "source": [
    "##### questions, answers, views per user"
   ]
  },
  {
   "cell_type": "code",
   "execution_count": 14,
   "metadata": {
    "scrolled": true
   },
   "outputs": [],
   "source": [
    "peruser=train2.groupby('Username').apply(lambda x: pd.Series({'quesperuser':np.count_nonzero(x),\n",
    "                                                              'ansperuser':np.sum(x.Answers),\n",
    "                                                              'viewsperuser':np.sum(x.Views),\n",
    "                                                              'meanansperuser':np.mean(x.Answers),\n",
    "                                                              'meanviewsperuser':np.mean(x.Views)}))"
   ]
  },
  {
   "cell_type": "code",
   "execution_count": 15,
   "metadata": {},
   "outputs": [],
   "source": [
    "train2=train2.merge(right=peruser,how=\"outer\",left_on=['Username'],right_index=True)"
   ]
  },
  {
   "cell_type": "markdown",
   "metadata": {},
   "source": [
    "##### answers, views as % of total, mean answers, views per user"
   ]
  },
  {
   "cell_type": "code",
   "execution_count": 16,
   "metadata": {},
   "outputs": [],
   "source": [
    "train2=train2.assign(ansperperuser=np.where(train2.ansperuser.values==0,0,train2.Answers/train2.ansperuser),\n",
    "              viewsperperuser=train2.Views/train2.viewsperuser,\n",
    "              anspermeanperuser=np.where(train2.meanansperuser.values==0,0,train2.Answers/train2.meanansperuser),\n",
    "              viewspermeanperuser=train2.Views/train2.meanviewsperuser)"
   ]
  },
  {
   "cell_type": "markdown",
   "metadata": {},
   "source": [
    "##### tag-wise total questions, answers, views and mean answers, views"
   ]
  },
  {
   "cell_type": "code",
   "execution_count": 17,
   "metadata": {},
   "outputs": [],
   "source": [
    "pertag=train2.groupby('Tag').apply(lambda x: pd.Series({'quespertag':np.count_nonzero(x),\n",
    "                                                        'anspertag':np.sum(x.Answers),\n",
    "                                                        'viewspertag':np.sum(x.Views),\n",
    "                                                        'meananspertag':np.mean(x.Answers),\n",
    "                                                        'meanviewspertag':np.mean(x.Views)}))"
   ]
  },
  {
   "cell_type": "code",
   "execution_count": 18,
   "metadata": {},
   "outputs": [],
   "source": [
    "train2=train2.merge(right=pertag,how=\"outer\",left_on=['Tag'],right_index=True)"
   ]
  },
  {
   "cell_type": "markdown",
   "metadata": {},
   "source": [
    "##### answers, views as % of tag-wise total, mean answers, views"
   ]
  },
  {
   "cell_type": "code",
   "execution_count": 19,
   "metadata": {},
   "outputs": [],
   "source": [
    "train2=train2.assign(ansperpertag=train2.Answers/train2.anspertag,\n",
    "                     viewsperpertag=train2.Views/train2.viewspertag,\n",
    "                     anspermeanpertag=train2.Answers/train2.meananspertag,\n",
    "                     viewspermeanpertag=train2.Views/train2.meanviewspertag)"
   ]
  },
  {
   "cell_type": "markdown",
   "metadata": {},
   "source": [
    "##### tag-wise mean questions, answers, views per user"
   ]
  },
  {
   "cell_type": "code",
   "execution_count": 20,
   "metadata": {},
   "outputs": [],
   "source": [
    "peruserpertag=train2.loc[~train2.duplicated(['Tag','Username','quesperuser','ansperuser','viewsperuser']),\n",
    "                         ['Tag','Username','quesperuser','ansperuser','viewsperuser']].groupby('Tag').apply(lambda x: pd.Series({\n",
    "    'meanquesperuserpertag':np.mean(x.quesperuser),\n",
    "    'meanansperuserpertag':np.mean(x.ansperuser),\n",
    "    'meanviewsperuserpertag':np.mean(x.viewsperuser)}))"
   ]
  },
  {
   "cell_type": "code",
   "execution_count": 21,
   "metadata": {},
   "outputs": [],
   "source": [
    "train2=train2.merge(right=peruserpertag,how=\"outer\",left_on=['Tag'],right_index=True)"
   ]
  },
  {
   "cell_type": "markdown",
   "metadata": {},
   "source": [
    "##### answers, views as % of tag-wise mean answers, views per user"
   ]
  },
  {
   "cell_type": "code",
   "execution_count": 22,
   "metadata": {},
   "outputs": [],
   "source": [
    "train2=train2.assign(anspermeanperuserpertag=train2.Answers/train2.meanansperuserpertag,\n",
    "                     viewspermeanperuserpertag=train2.Views/train2.meanviewsperuserpertag)"
   ]
  },
  {
   "cell_type": "markdown",
   "metadata": {},
   "source": [
    "##### questions, answers, views per user as % of tag-wise mean questions, answers, views per user"
   ]
  },
  {
   "cell_type": "code",
   "execution_count": 23,
   "metadata": {},
   "outputs": [],
   "source": [
    "train2=train2.assign(ansperuserpermeanperuserpertag=train2.ansperuser/train2.meanansperuserpertag,\n",
    "                     viewsperuserpermeanperuserpertag=train2.viewsperuser/train2.meanviewsperuserpertag)"
   ]
  },
  {
   "cell_type": "markdown",
   "metadata": {},
   "source": [
    "#### reputation bins"
   ]
  },
  {
   "cell_type": "code",
   "execution_count": 24,
   "metadata": {},
   "outputs": [],
   "source": [
    "cuts=train2.Reputation.quantile([i/10 for i in range(11)])"
   ]
  },
  {
   "cell_type": "code",
   "execution_count": 25,
   "metadata": {},
   "outputs": [],
   "source": [
    "train2=train2.assign(repbin=pd.cut(train2.Reputation,bins=cuts,labels=[i for i in range(10)],include_lowest=True).cat.codes)"
   ]
  },
  {
   "cell_type": "markdown",
   "metadata": {},
   "source": [
    "##### reputation bin-wise total questions, answers, views and mean answers, views"
   ]
  },
  {
   "cell_type": "code",
   "execution_count": 26,
   "metadata": {},
   "outputs": [],
   "source": [
    "perrepbin=train2.groupby('repbin').apply(lambda x: pd.Series({'quesperrepbin':np.count_nonzero(x),\n",
    "                                                        'ansperrepbin':np.sum(x.Answers),\n",
    "                                                        'viewsperrepbin':np.sum(x.Views),\n",
    "                                                        'meanansperrepbin':np.mean(x.Answers),\n",
    "                                                        'meanviewsperrepbin':np.mean(x.Views)}))"
   ]
  },
  {
   "cell_type": "code",
   "execution_count": 27,
   "metadata": {},
   "outputs": [],
   "source": [
    "train2=train2.merge(right=perrepbin,how=\"outer\",left_on=['repbin'],right_index=True)"
   ]
  },
  {
   "cell_type": "markdown",
   "metadata": {},
   "source": [
    "##### answers, views as % of reputation bin-wise total, mean answers, views"
   ]
  },
  {
   "cell_type": "code",
   "execution_count": 28,
   "metadata": {},
   "outputs": [],
   "source": [
    "train2=train2.assign(ansperperrepbin=train2.Answers/train2.ansperrepbin,\n",
    "                     viewsperperrepbin=train2.Views/train2.viewsperrepbin,\n",
    "                     anspermeanperrepbin=train2.Answers/train2.meanansperrepbin,\n",
    "                     viewspermeanperrepbin=train2.Views/train2.meanviewsperrepbin)"
   ]
  },
  {
   "cell_type": "markdown",
   "metadata": {},
   "source": [
    "##### reputation bin-wise mean questions, answers, views per user"
   ]
  },
  {
   "cell_type": "code",
   "execution_count": 29,
   "metadata": {},
   "outputs": [],
   "source": [
    "peruserperrepbin=train2.loc[~train2.duplicated(['repbin','Username','quesperuser','ansperuser','viewsperuser']),\n",
    "                         ['repbin','Username','quesperuser','ansperuser','viewsperuser']].groupby('repbin').apply(lambda x: pd.Series({\n",
    "    'meanquesperuserperrepbin':np.mean(x.quesperuser),\n",
    "    'meanansperuserperrepbin':np.mean(x.ansperuser),\n",
    "    'meanviewsperuserperrepbin':np.mean(x.viewsperuser)}))"
   ]
  },
  {
   "cell_type": "code",
   "execution_count": 30,
   "metadata": {},
   "outputs": [],
   "source": [
    "train2=train2.merge(right=peruserperrepbin,how=\"outer\",left_on=['repbin'],right_index=True)"
   ]
  },
  {
   "cell_type": "markdown",
   "metadata": {},
   "source": [
    "##### answers, views as % of reputation bin-wise mean answers, views per user"
   ]
  },
  {
   "cell_type": "code",
   "execution_count": 31,
   "metadata": {},
   "outputs": [],
   "source": [
    "train2=train2.assign(anspermeanperuserperrepbin=train2.Answers/train2.meanansperuserperrepbin,\n",
    "                     viewspermeanperuserperrepbin=train2.Views/train2.meanviewsperuserperrepbin)"
   ]
  },
  {
   "cell_type": "markdown",
   "metadata": {},
   "source": [
    "##### questions, answers, views per user as % of reputation bin-wise mean questions, answers, views per user"
   ]
  },
  {
   "cell_type": "code",
   "execution_count": 32,
   "metadata": {},
   "outputs": [],
   "source": [
    "train2=train2.assign(ansperuserpermeanperuserperrepbin=train2.ansperuser/train2.meanansperuserperrepbin,\n",
    "                     viewsperuserpermeanperuserperrepbin=train2.viewsperuser/train2.meanviewsperuserperrepbin)"
   ]
  },
  {
   "cell_type": "code",
   "execution_count": 33,
   "metadata": {},
   "outputs": [],
   "source": [
    "train2=train2.drop(['Tag','Username','repbin'],axis=1)"
   ]
  },
  {
   "cell_type": "code",
   "execution_count": 34,
   "metadata": {},
   "outputs": [],
   "source": [
    "from sklearn.cross_validation import train_test_split"
   ]
  },
  {
   "cell_type": "code",
   "execution_count": 35,
   "metadata": {},
   "outputs": [],
   "source": [
    "devi=train_test_split(train2.index,test_size=0.3,random_state=1615)[0]\n",
    "vali=train_test_split(train2.index,test_size=0.3,random_state=1615)[1]"
   ]
  },
  {
   "cell_type": "code",
   "execution_count": 36,
   "metadata": {},
   "outputs": [],
   "source": [
    "dev=train2.iloc[devi,:]\n",
    "val=train2.iloc[vali,:]"
   ]
  },
  {
   "cell_type": "code",
   "execution_count": 37,
   "metadata": {},
   "outputs": [],
   "source": [
    "devdv=dv[devi]\n",
    "valdv=dv[vali]"
   ]
  },
  {
   "cell_type": "code",
   "execution_count": 38,
   "metadata": {},
   "outputs": [],
   "source": [
    "from sklearn.ensemble import RandomForestRegressor"
   ]
  },
  {
   "cell_type": "code",
   "execution_count": 40,
   "metadata": {
    "scrolled": true
   },
   "outputs": [
    {
     "name": "stdout",
     "output_type": "stream",
     "text": [
      "building tree 1 of 75building tree 2 of 75\n",
      "building tree 3 of 75\n",
      "building tree 4 of 75\n",
      "\n",
      "building tree 5 of 75\n",
      "building tree 6 of 75\n",
      "building tree 7 of 75[Parallel(n_jobs=6)]: Done   6 out of  75 | elapsed:    3.5s remaining:   40.9s\n",
      "\n",
      "building tree 8 of 75[Parallel(n_jobs=6)]: Done   4 out of  75 | elapsed:    3.5s remaining:  1.1min\n",
      "\n",
      "building tree 9 of 75[Parallel(n_jobs=6)]: Done   1 out of  75 | elapsed:    3.5s remaining:  4.5min\n",
      "\n",
      "building tree 10 of 75[Parallel(n_jobs=6)]: Done   3 out of  75 | elapsed:    3.6s remaining:  1.5min\n",
      "\n",
      "building tree 11 of 75[Parallel(n_jobs=6)]: Done   2 out of  75 | elapsed:    3.6s remaining:  2.3min\n",
      "\n",
      "building tree 12 of 75[Parallel(n_jobs=6)]: Done   5 out of  75 | elapsed:    3.7s remaining:   52.9s\n",
      "\n",
      "building tree 13 of 75[Parallel(n_jobs=6)]: Done   9 out of  75 | elapsed:    7.1s remaining:   52.6s\n",
      "\n",
      "building tree 14 of 75[Parallel(n_jobs=6)]: Done   8 out of  75 | elapsed:    7.2s remaining:  1.0min\n",
      "\n",
      "building tree 15 of 75[Parallel(n_jobs=6)]: Done  11 out of  75 | elapsed:    7.2s remaining:   42.5s\n",
      "\n",
      "building tree 16 of 75[Parallel(n_jobs=6)]: Done  10 out of  75 | elapsed:    7.3s remaining:   47.7s\n",
      "\n",
      "building tree 17 of 75[Parallel(n_jobs=6)]: Done   7 out of  75 | elapsed:    7.3s remaining:  1.2min\n",
      "\n",
      "building tree 18 of 75[Parallel(n_jobs=6)]: Done  12 out of  75 | elapsed:    7.4s remaining:   39.4s\n",
      "\n",
      "building tree 19 of 75[Parallel(n_jobs=6)]: Done  16 out of  75 | elapsed:   10.8s remaining:   40.0s\n",
      "\n",
      "building tree 20 of 75[Parallel(n_jobs=6)]: Done  15 out of  75 | elapsed:   10.8s remaining:   43.5s\n",
      "\n",
      "building tree 21 of 75[Parallel(n_jobs=6)]: Done  13 out of  75 | elapsed:   10.9s remaining:   52.3s\n",
      "\n",
      "building tree 22 of 75[Parallel(n_jobs=6)]: Done  17 out of  75 | elapsed:   11.0s remaining:   37.6s\n",
      "\n",
      "building tree 23 of 75[Parallel(n_jobs=6)]: Done  18 out of  75 | elapsed:   11.0s remaining:   35.2s\n",
      "\n",
      "building tree 24 of 75[Parallel(n_jobs=6)]: Done  14 out of  75 | elapsed:   11.1s remaining:   48.6s\n",
      "\n",
      "building tree 25 of 75[Parallel(n_jobs=6)]: Done  20 out of  75 | elapsed:   14.3s remaining:   39.4s\n",
      "\n",
      "building tree 26 of 75[Parallel(n_jobs=6)]: Done  19 out of  75 | elapsed:   14.4s remaining:   42.6s\n",
      "\n",
      "building tree 27 of 75[Parallel(n_jobs=6)]: Done  21 out of  75 | elapsed:   14.6s remaining:   37.6s\n",
      "\n",
      "building tree 28 of 75[Parallel(n_jobs=6)]: Done  22 out of  75 | elapsed:   14.7s remaining:   35.6s\n",
      "\n",
      "building tree 29 of 75[Parallel(n_jobs=6)]: Done  24 out of  75 | elapsed:   14.7s remaining:   31.4s\n",
      "\n",
      "building tree 30 of 75[Parallel(n_jobs=6)]: Done  23 out of  75 | elapsed:   15.0s remaining:   34.0s\n",
      "\n",
      "building tree 31 of 75[Parallel(n_jobs=6)]: Done  25 out of  75 | elapsed:   17.6s remaining:   35.2s\n",
      "\n",
      "building tree 32 of 75[Parallel(n_jobs=6)]: Done  26 out of  75 | elapsed:   17.9s remaining:   33.8s\n",
      "\n",
      "building tree 33 of 75[Parallel(n_jobs=6)]: Done  27 out of  75 | elapsed:   18.2s remaining:   32.4s\n",
      "\n",
      "building tree 34 of 75[Parallel(n_jobs=6)]: Done  28 out of  75 | elapsed:   18.4s remaining:   31.0s\n",
      "\n",
      "building tree 35 of 75[Parallel(n_jobs=6)]: Done  29 out of  75 | elapsed:   18.4s remaining:   29.3s\n",
      "\n",
      "building tree 36 of 75[Parallel(n_jobs=6)]: Done  30 out of  75 | elapsed:   18.6s remaining:   28.0s\n",
      "\n",
      "building tree 37 of 75[Parallel(n_jobs=6)]: Done  31 out of  75 | elapsed:   21.1s remaining:   30.0s\n",
      "\n",
      "building tree 38 of 75[Parallel(n_jobs=6)]: Done  32 out of  75 | elapsed:   21.7s remaining:   29.1s\n",
      "\n",
      "building tree 39 of 75[Parallel(n_jobs=6)]: Done  33 out of  75 | elapsed:   21.9s remaining:   27.9s\n",
      "\n",
      "building tree 40 of 75[Parallel(n_jobs=6)]: Done  34 out of  75 | elapsed:   22.2s remaining:   26.7s\n",
      "\n",
      "building tree 41 of 75[Parallel(n_jobs=6)]: Done  35 out of  75 | elapsed:   22.2s remaining:   25.4s\n",
      "\n",
      "building tree 42 of 75[Parallel(n_jobs=6)]: Done  36 out of  75 | elapsed:   22.3s remaining:   24.2s\n",
      "\n",
      "building tree 43 of 75[Parallel(n_jobs=6)]: Done  37 out of  75 | elapsed:   24.9s remaining:   25.6s\n",
      "\n",
      "building tree 44 of 75[Parallel(n_jobs=6)]: Done  38 out of  75 | elapsed:   25.3s remaining:   24.6s\n",
      "\n",
      "building tree 45 of 75[Parallel(n_jobs=6)]: Done  39 out of  75 | elapsed:   25.6s remaining:   23.6s\n",
      "\n",
      "building tree 46 of 75[Parallel(n_jobs=6)]: Done  42 out of  75 | elapsed:   25.7s remaining:   20.2s\n",
      "building tree 47 of 75[Parallel(n_jobs=6)]: Done  41 out of  75 | elapsed:   25.7s remaining:   21.3s\n",
      "\n",
      "\n",
      "building tree 48 of 75[Parallel(n_jobs=6)]: Done  40 out of  75 | elapsed:   25.8s remaining:   22.6s\n",
      "\n",
      "building tree 49 of 75[Parallel(n_jobs=6)]: Done  43 out of  75 | elapsed:   28.6s remaining:   21.2s\n",
      "\n",
      "building tree 50 of 75[Parallel(n_jobs=6)]: Done  44 out of  75 | elapsed:   29.1s remaining:   20.5s\n",
      "\n",
      "building tree 51 of 75[Parallel(n_jobs=6)]: Done  45 out of  75 | elapsed:   29.3s remaining:   19.5s\n",
      "\n",
      "building tree 52 of 75[Parallel(n_jobs=6)]: Done  47 out of  75 | elapsed:   29.6s remaining:   17.6s\n",
      "\n",
      "building tree 53 of 75[Parallel(n_jobs=6)]: Done  46 out of  75 | elapsed:   29.7s remaining:   18.7s\n",
      "\n",
      "building tree 54 of 75[Parallel(n_jobs=6)]: Done  48 out of  75 | elapsed:   29.7s remaining:   16.7s\n",
      "\n",
      "building tree 55 of 75[Parallel(n_jobs=6)]: Done  49 out of  75 | elapsed:   32.7s remaining:   17.3s\n",
      "\n",
      "building tree 56 of 75[Parallel(n_jobs=6)]: Done  51 out of  75 | elapsed:   33.0s remaining:   15.5s\n",
      "\n",
      "building tree 57 of 75[Parallel(n_jobs=6)]: Done  50 out of  75 | elapsed:   33.1s remaining:   16.5s\n",
      "\n",
      "building tree 58 of 75[Parallel(n_jobs=6)]: Done  52 out of  75 | elapsed:   33.5s remaining:   14.8s\n",
      "\n",
      "building tree 59 of 75[Parallel(n_jobs=6)]: Done  53 out of  75 | elapsed:   33.5s remaining:   13.9s\n",
      "\n",
      "building tree 60 of 75[Parallel(n_jobs=6)]: Done  54 out of  75 | elapsed:   33.8s remaining:   13.1s\n",
      "\n",
      "building tree 61 of 75[Parallel(n_jobs=6)]: Done  56 out of  75 | elapsed:   36.7s remaining:   12.4s\n",
      "\n",
      "building tree 62 of 75[Parallel(n_jobs=6)]: Done  57 out of  75 | elapsed:   36.9s remaining:   11.6s\n",
      "\n",
      "building tree 63 of 75[Parallel(n_jobs=6)]: Done  55 out of  75 | elapsed:   36.9s remaining:   13.4s\n",
      "\n",
      "building tree 64 of 75[Parallel(n_jobs=6)]: Done  58 out of  75 | elapsed:   37.4s remaining:   10.9s\n",
      "\n",
      "building tree 65 of 75[Parallel(n_jobs=6)]: Done  59 out of  75 | elapsed:   37.5s remaining:   10.1s\n",
      "\n",
      "building tree 66 of 75[Parallel(n_jobs=6)]: Done  60 out of  75 | elapsed:   37.7s remaining:    9.3s\n",
      "\n",
      "building tree 67 of 75[Parallel(n_jobs=6)]: Done  61 out of  75 | elapsed:   40.6s remaining:    9.2s\n",
      "\n",
      "building tree 68 of 75[Parallel(n_jobs=6)]: Done  63 out of  75 | elapsed:   40.9s remaining:    7.7s\n",
      "\n",
      "building tree 69 of 75[Parallel(n_jobs=6)]: Done  62 out of  75 | elapsed:   41.0s remaining:    8.5s\n",
      "\n",
      "building tree 70 of 75[Parallel(n_jobs=6)]: Done  64 out of  75 | elapsed:   41.4s remaining:    7.0s\n",
      "\n",
      "building tree 71 of 75[Parallel(n_jobs=6)]: Done  65 out of  75 | elapsed:   41.5s remaining:    6.3s\n",
      "\n",
      "building tree 72 of 75[Parallel(n_jobs=6)]: Done  66 out of  75 | elapsed:   41.8s remaining:    5.6s\n",
      "\n",
      "building tree 73 of 75[Parallel(n_jobs=6)]: Done  68 out of  75 | elapsed:   44.7s remaining:    4.5s\n",
      "\n",
      "building tree 74 of 75[Parallel(n_jobs=6)]: Done  67 out of  75 | elapsed:   44.8s remaining:    5.3s\n",
      "\n",
      "building tree 75 of 75[Parallel(n_jobs=6)]: Done  69 out of  75 | elapsed:   45.1s remaining:    3.8s\n",
      "\n",
      "[Parallel(n_jobs=6)]: Done  70 out of  75 | elapsed:   45.5s remaining:    3.2s\n",
      "[Parallel(n_jobs=6)]: Done  71 out of  75 | elapsed:   45.8s remaining:    2.5s\n",
      "[Parallel(n_jobs=6)]: Done  72 out of  75 | elapsed:   45.9s remaining:    1.8s\n",
      "[Parallel(n_jobs=6)]: Done  73 out of  75 | elapsed:   47.4s remaining:    1.2s\n",
      "[Parallel(n_jobs=6)]: Done  74 out of  75 | elapsed:   47.5s remaining:    0.5s\n",
      "[Parallel(n_jobs=6)]: Done  75 out of  75 | elapsed:   47.7s finished\n"
     ]
    }
   ],
   "source": [
    "RF=model2.fit(dev.values,devdv)"
   ]
  },
  {
   "cell_type": "code",
   "execution_count": 41,
   "metadata": {
    "scrolled": true
   },
   "outputs": [
    {
     "name": "stdout",
     "output_type": "stream",
     "text": [
      "[Parallel(n_jobs=6)]: Done   1 out of  75 | elapsed:    0.0s remaining:    2.9s\n",
      "[Parallel(n_jobs=6)]: Done   3 out of  75 | elapsed:    0.0s remaining:    0.9s\n",
      "[Parallel(n_jobs=6)]: Done   2 out of  75 | elapsed:    0.0s remaining:    1.4s\n",
      "[Parallel(n_jobs=6)]: Done   4 out of  75 | elapsed:    0.0s remaining:    0.6s\n",
      "[Parallel(n_jobs=6)]: Done   5 out of  75 | elapsed:    0.0s remaining:    0.5s\n",
      "[Parallel(n_jobs=6)]: Done   6 out of  75 | elapsed:    0.0s remaining:    0.4s\n",
      "[Parallel(n_jobs=6)]: Done   8 out of  75 | elapsed:    0.0s remaining:    0.2s\n",
      "[Parallel(n_jobs=6)]: Done   9 out of  75 | elapsed:    0.0s remaining:    0.2s\n",
      "[Parallel(n_jobs=6)]: Done  11 out of  75 | elapsed:    0.0s remaining:    0.1s\n",
      "[Parallel(n_jobs=6)]: Done  10 out of  75 | elapsed:    0.0s remaining:    0.2s\n",
      "[Parallel(n_jobs=6)]: Done  12 out of  75 | elapsed:    0.0s remaining:    0.1s\n",
      "[Parallel(n_jobs=6)]: Done  13 out of  75 | elapsed:    0.0s remaining:    0.1s\n",
      "[Parallel(n_jobs=6)]: Done  14 out of  75 | elapsed:    0.0s remaining:    0.1s\n",
      "[Parallel(n_jobs=6)]: Done  15 out of  75 | elapsed:    0.0s remaining:    0.1s\n",
      "[Parallel(n_jobs=6)]: Done  16 out of  75 | elapsed:    0.0s remaining:    0.0s\n",
      "[Parallel(n_jobs=6)]: Done  17 out of  75 | elapsed:    0.0s remaining:    0.0s\n",
      "[Parallel(n_jobs=6)]: Done  18 out of  75 | elapsed:    0.0s remaining:    0.0s\n",
      "[Parallel(n_jobs=6)]: Done  19 out of  75 | elapsed:    0.0s remaining:    0.0s\n",
      "[Parallel(n_jobs=6)]: Done  20 out of  75 | elapsed:    0.0s remaining:    0.0s\n",
      "[Parallel(n_jobs=6)]: Done   7 out of  75 | elapsed:    0.0s remaining:    0.3s\n",
      "[Parallel(n_jobs=6)]: Done  21 out of  75 | elapsed:    0.0s remaining:    0.0s\n",
      "[Parallel(n_jobs=6)]: Done  22 out of  75 | elapsed:    0.0s remaining:    0.0s\n",
      "[Parallel(n_jobs=6)]: Done  23 out of  75 | elapsed:    0.0s remaining:    0.0s\n",
      "[Parallel(n_jobs=6)]: Done  25 out of  75 | elapsed:    0.0s remaining:    0.0s\n",
      "[Parallel(n_jobs=6)]: Done  26 out of  75 | elapsed:    0.0s remaining:    0.0s\n",
      "[Parallel(n_jobs=6)]: Done  27 out of  75 | elapsed:    0.0s remaining:    0.0s\n",
      "[Parallel(n_jobs=6)]: Done  28 out of  75 | elapsed:    0.0s remaining:    0.0s\n",
      "[Parallel(n_jobs=6)]: Done  29 out of  75 | elapsed:    0.0s remaining:    0.0s\n",
      "[Parallel(n_jobs=6)]: Done  30 out of  75 | elapsed:    0.0s remaining:    0.0s\n",
      "[Parallel(n_jobs=6)]: Done  31 out of  75 | elapsed:    0.0s remaining:    0.0s\n",
      "[Parallel(n_jobs=6)]: Done  32 out of  75 | elapsed:    0.0s remaining:    0.0s\n",
      "[Parallel(n_jobs=6)]: Done  24 out of  75 | elapsed:    0.0s remaining:    0.0s\n",
      "[Parallel(n_jobs=6)]: Done  36 out of  75 | elapsed:    0.0s remaining:    0.0s\n",
      "[Parallel(n_jobs=6)]: Done  35 out of  75 | elapsed:    0.0s remaining:    0.0s\n",
      "[Parallel(n_jobs=6)]: Done  38 out of  75 | elapsed:    0.0s remaining:    0.0s\n",
      "[Parallel(n_jobs=6)]: Done  37 out of  75 | elapsed:    0.0s remaining:    0.0s\n",
      "[Parallel(n_jobs=6)]: Done  39 out of  75 | elapsed:    0.0s remaining:    0.0s\n",
      "[Parallel(n_jobs=6)]: Done  40 out of  75 | elapsed:    0.0s remaining:    0.0s\n",
      "[Parallel(n_jobs=6)]: Done  42 out of  75 | elapsed:    0.0s remaining:    0.0s\n",
      "[Parallel(n_jobs=6)]: Done  43 out of  75 | elapsed:    0.0s remaining:    0.0s\n",
      "[Parallel(n_jobs=6)]: Done  41 out of  75 | elapsed:    0.0s remaining:    0.0s\n",
      "[Parallel(n_jobs=6)]: Done  44 out of  75 | elapsed:    0.0s remaining:    0.0s\n",
      "[Parallel(n_jobs=6)]: Done  45 out of  75 | elapsed:    0.0s remaining:    0.0s\n",
      "[Parallel(n_jobs=6)]: Done  47 out of  75 | elapsed:    0.0s remaining:    0.0s\n",
      "[Parallel(n_jobs=6)]: Done  46 out of  75 | elapsed:    0.0s remaining:    0.0s\n",
      "[Parallel(n_jobs=6)]: Done  49 out of  75 | elapsed:    0.0s remaining:    0.0s\n",
      "[Parallel(n_jobs=6)]: Done  34 out of  75 | elapsed:    0.0s remaining:    0.0s\n",
      "[Parallel(n_jobs=6)]: Done  48 out of  75 | elapsed:    0.0s remaining:    0.0s\n",
      "[Parallel(n_jobs=6)]: Done  50 out of  75 | elapsed:    0.0s remaining:    0.0s\n",
      "[Parallel(n_jobs=6)]: Done  51 out of  75 | elapsed:    0.0s remaining:    0.0s\n",
      "[Parallel(n_jobs=6)]: Done  55 out of  75 | elapsed:    0.0s remaining:    0.0s\n",
      "[Parallel(n_jobs=6)]: Done  56 out of  75 | elapsed:    0.0s remaining:    0.0s\n",
      "[Parallel(n_jobs=6)]: Done  54 out of  75 | elapsed:    0.0s remaining:    0.0s\n",
      "[Parallel(n_jobs=6)]: Done  53 out of  75 | elapsed:    0.0s remaining:    0.0s\n",
      "[Parallel(n_jobs=6)]: Done  58 out of  75 | elapsed:    0.0s remaining:    0.0s\n",
      "[Parallel(n_jobs=6)]: Done  33 out of  75 | elapsed:    0.0s remaining:    0.0s\n",
      "[Parallel(n_jobs=6)]: Done  59 out of  75 | elapsed:    0.0s remaining:    0.0s\n",
      "[Parallel(n_jobs=6)]: Done  60 out of  75 | elapsed:    0.0s remaining:    0.0s\n",
      "[Parallel(n_jobs=6)]: Done  61 out of  75 | elapsed:    0.0s remaining:    0.0s\n",
      "[Parallel(n_jobs=6)]: Done  62 out of  75 | elapsed:    0.0s remaining:    0.0s\n",
      "[Parallel(n_jobs=6)]: Done  63 out of  75 | elapsed:    0.0s remaining:    0.0s\n",
      "[Parallel(n_jobs=6)]: Done  66 out of  75 | elapsed:    0.0s remaining:    0.0s\n",
      "[Parallel(n_jobs=6)]: Done  65 out of  75 | elapsed:    0.0s remaining:    0.0s\n",
      "[Parallel(n_jobs=6)]: Done  57 out of  75 | elapsed:    0.0s remaining:    0.0s\n",
      "[Parallel(n_jobs=6)]: Done  69 out of  75 | elapsed:    0.0s remaining:    0.0s\n",
      "[Parallel(n_jobs=6)]: Done  67 out of  75 | elapsed:    0.0s remaining:    0.0s\n",
      "[Parallel(n_jobs=6)]: Done  68 out of  75 | elapsed:    0.0s remaining:    0.0s\n",
      "[Parallel(n_jobs=6)]: Done  70 out of  75 | elapsed:    0.0s remaining:    0.0s\n",
      "[Parallel(n_jobs=6)]: Done  73 out of  75 | elapsed:    0.0s remaining:    0.0s\n",
      "[Parallel(n_jobs=6)]: Done  71 out of  75 | elapsed:    0.0s remaining:    0.0s\n",
      "[Parallel(n_jobs=6)]: Done  64 out of  75 | elapsed:    0.0s remaining:    0.0s\n",
      "[Parallel(n_jobs=6)]: Done  72 out of  75 | elapsed:    0.0s remaining:    0.0s\n",
      "[Parallel(n_jobs=6)]: Done  52 out of  75 | elapsed:    0.0s remaining:    0.0s\n",
      "[Parallel(n_jobs=6)]: Done  74 out of  75 | elapsed:    0.0s remaining:    0.0s\n",
      "[Parallel(n_jobs=6)]: Done  75 out of  75 | elapsed:    0.0s finished\n"
     ]
    },
    {
     "data": {
      "text/plain": [
       "-0.00010541535192287732"
      ]
     },
     "execution_count": 41,
     "metadata": {},
     "output_type": "execute_result"
    }
   ],
   "source": [
    "RF.score(val.values,valdv)"
   ]
  },
  {
   "cell_type": "code",
   "execution_count": 42,
   "metadata": {
    "scrolled": true
   },
   "outputs": [
    {
     "name": "stdout",
     "output_type": "stream",
     "text": [
      "[Parallel(n_jobs=6)]: Done   3 out of  75 | elapsed:    0.0s remaining:    0.0s\n",
      "[Parallel(n_jobs=6)]: Done   4 out of  75 | elapsed:    0.0s remaining:    0.0s\n",
      "[Parallel(n_jobs=6)]: Done   2 out of  75 | elapsed:    0.0s remaining:    0.2s\n",
      "[Parallel(n_jobs=6)]: Done   1 out of  75 | elapsed:    0.0s remaining:    0.5s\n",
      "[Parallel(n_jobs=6)]: Done   6 out of  75 | elapsed:    0.0s remaining:    0.0s\n",
      "[Parallel(n_jobs=6)]: Done   9 out of  75 | elapsed:    0.0s remaining:    0.0s\n",
      "[Parallel(n_jobs=6)]: Done   8 out of  75 | elapsed:    0.0s remaining:    0.0s\n",
      "[Parallel(n_jobs=6)]: Done  10 out of  75 | elapsed:    0.0s remaining:    0.0s\n",
      "[Parallel(n_jobs=6)]: Done   7 out of  75 | elapsed:    0.0s remaining:    0.0s\n",
      "[Parallel(n_jobs=6)]: Done  11 out of  75 | elapsed:    0.0s remaining:    0.0s\n",
      "[Parallel(n_jobs=6)]: Done   5 out of  75 | elapsed:    0.0s remaining:    0.1s\n",
      "[Parallel(n_jobs=6)]: Done  15 out of  75 | elapsed:    0.0s remaining:    0.0s\n",
      "[Parallel(n_jobs=6)]: Done  12 out of  75 | elapsed:    0.0s remaining:    0.0s\n",
      "[Parallel(n_jobs=6)]: Done  16 out of  75 | elapsed:    0.0s remaining:    0.0s\n",
      "[Parallel(n_jobs=6)]: Done  14 out of  75 | elapsed:    0.0s remaining:    0.0s\n",
      "[Parallel(n_jobs=6)]: Done  18 out of  75 | elapsed:    0.0s remaining:    0.0s\n",
      "[Parallel(n_jobs=6)]: Done  20 out of  75 | elapsed:    0.0s remaining:    0.0s\n",
      "[Parallel(n_jobs=6)]: Done  19 out of  75 | elapsed:    0.0s remaining:    0.0s\n",
      "[Parallel(n_jobs=6)]: Done  13 out of  75 | elapsed:    0.0s remaining:    0.0s\n",
      "[Parallel(n_jobs=6)]: Done  22 out of  75 | elapsed:    0.0s remaining:    0.0s\n",
      "[Parallel(n_jobs=6)]: Done  25 out of  75 | elapsed:    0.0s remaining:    0.0s\n",
      "[Parallel(n_jobs=6)]: Done  21 out of  75 | elapsed:    0.0s remaining:    0.0s\n",
      "[Parallel(n_jobs=6)]: Done  24 out of  75 | elapsed:    0.0s remaining:    0.0s\n",
      "[Parallel(n_jobs=6)]: Done  17 out of  75 | elapsed:    0.0s remaining:    0.0s\n",
      "[Parallel(n_jobs=6)]: Done  26 out of  75 | elapsed:    0.0s remaining:    0.0s\n",
      "[Parallel(n_jobs=6)]: Done  29 out of  75 | elapsed:    0.0s remaining:    0.0s\n",
      "[Parallel(n_jobs=6)]: Done  30 out of  75 | elapsed:    0.0s remaining:    0.0s\n",
      "[Parallel(n_jobs=6)]: Done  31 out of  75 | elapsed:    0.0s remaining:    0.0s\n",
      "[Parallel(n_jobs=6)]: Done  23 out of  75 | elapsed:    0.0s remaining:    0.0s\n",
      "[Parallel(n_jobs=6)]: Done  34 out of  75 | elapsed:    0.0s remaining:    0.0s\n",
      "[Parallel(n_jobs=6)]: Done  27 out of  75 | elapsed:    0.0s remaining:    0.0s\n",
      "[Parallel(n_jobs=6)]: Done  32 out of  75 | elapsed:    0.0s remaining:    0.0s\n",
      "[Parallel(n_jobs=6)]: Done  35 out of  75 | elapsed:    0.0s remaining:    0.0s\n",
      "[Parallel(n_jobs=6)]: Done  28 out of  75 | elapsed:    0.0s remaining:    0.0s\n",
      "[Parallel(n_jobs=6)]: Done  37 out of  75 | elapsed:    0.0s remaining:    0.0s\n",
      "[Parallel(n_jobs=6)]: Done  36 out of  75 | elapsed:    0.0s remaining:    0.0s\n",
      "[Parallel(n_jobs=6)]: Done  40 out of  75 | elapsed:    0.0s remaining:    0.0s\n",
      "[Parallel(n_jobs=6)]: Done  39 out of  75 | elapsed:    0.0s remaining:    0.0s\n",
      "[Parallel(n_jobs=6)]: Done  41 out of  75 | elapsed:    0.0s remaining:    0.0s\n",
      "[Parallel(n_jobs=6)]: Done  43 out of  75 | elapsed:    0.0s remaining:    0.0s\n",
      "[Parallel(n_jobs=6)]: Done  33 out of  75 | elapsed:    0.0s remaining:    0.0s\n",
      "[Parallel(n_jobs=6)]: Done  44 out of  75 | elapsed:    0.0s remaining:    0.0s\n",
      "[Parallel(n_jobs=6)]: Done  42 out of  75 | elapsed:    0.0s remaining:    0.0s\n",
      "[Parallel(n_jobs=6)]: Done  46 out of  75 | elapsed:    0.0s remaining:    0.0s\n",
      "[Parallel(n_jobs=6)]: Done  49 out of  75 | elapsed:    0.0s remaining:    0.0s\n",
      "[Parallel(n_jobs=6)]: Done  45 out of  75 | elapsed:    0.0s remaining:    0.0s\n",
      "[Parallel(n_jobs=6)]: Done  38 out of  75 | elapsed:    0.0s remaining:    0.0s\n",
      "[Parallel(n_jobs=6)]: Done  50 out of  75 | elapsed:    0.0s remaining:    0.0s\n",
      "[Parallel(n_jobs=6)]: Done  52 out of  75 | elapsed:    0.0s remaining:    0.0s\n",
      "[Parallel(n_jobs=6)]: Done  53 out of  75 | elapsed:    0.0s remaining:    0.0s\n",
      "[Parallel(n_jobs=6)]: Done  54 out of  75 | elapsed:    0.0s remaining:    0.0s\n",
      "[Parallel(n_jobs=6)]: Done  48 out of  75 | elapsed:    0.0s remaining:    0.0s\n",
      "[Parallel(n_jobs=6)]: Done  55 out of  75 | elapsed:    0.0s remaining:    0.0s\n",
      "[Parallel(n_jobs=6)]: Done  56 out of  75 | elapsed:    0.0s remaining:    0.0s\n",
      "[Parallel(n_jobs=6)]: Done  58 out of  75 | elapsed:    0.0s remaining:    0.0s\n",
      "[Parallel(n_jobs=6)]: Done  57 out of  75 | elapsed:    0.0s remaining:    0.0s\n",
      "[Parallel(n_jobs=6)]: Done  47 out of  75 | elapsed:    0.0s remaining:    0.0s\n",
      "[Parallel(n_jobs=6)]: Done  60 out of  75 | elapsed:    0.0s remaining:    0.0s\n",
      "[Parallel(n_jobs=6)]: Done  59 out of  75 | elapsed:    0.0s remaining:    0.0s\n",
      "[Parallel(n_jobs=6)]: Done  61 out of  75 | elapsed:    0.0s remaining:    0.0s\n",
      "[Parallel(n_jobs=6)]: Done  51 out of  75 | elapsed:    0.0s remaining:    0.0s\n",
      "[Parallel(n_jobs=6)]: Done  65 out of  75 | elapsed:    0.0s remaining:    0.0s\n",
      "[Parallel(n_jobs=6)]: Done  66 out of  75 | elapsed:    0.0s remaining:    0.0s\n",
      "[Parallel(n_jobs=6)]: Done  64 out of  75 | elapsed:    0.0s remaining:    0.0s\n",
      "[Parallel(n_jobs=6)]: Done  67 out of  75 | elapsed:    0.0s remaining:    0.0s\n",
      "[Parallel(n_jobs=6)]: Done  63 out of  75 | elapsed:    0.0s remaining:    0.0s\n",
      "[Parallel(n_jobs=6)]: Done  69 out of  75 | elapsed:    0.0s remaining:    0.0s\n",
      "[Parallel(n_jobs=6)]: Done  70 out of  75 | elapsed:    0.0s remaining:    0.0s\n",
      "[Parallel(n_jobs=6)]: Done  71 out of  75 | elapsed:    0.0s remaining:    0.0s\n",
      "[Parallel(n_jobs=6)]: Done  72 out of  75 | elapsed:    0.0s remaining:    0.0s\n",
      "[Parallel(n_jobs=6)]: Done  62 out of  75 | elapsed:    0.0s remaining:    0.0s\n",
      "[Parallel(n_jobs=6)]: Done  73 out of  75 | elapsed:    0.0s remaining:    0.0s\n",
      "[Parallel(n_jobs=6)]: Done  74 out of  75 | elapsed:    0.0s remaining:    0.0s\n",
      "[Parallel(n_jobs=6)]: Done  68 out of  75 | elapsed:    0.0s remaining:    0.0s\n",
      "[Parallel(n_jobs=6)]: Done  75 out of  75 | elapsed:    0.0s finished\n"
     ]
    }
   ],
   "source": [
    "pred=RF.predict(val.values)"
   ]
  },
  {
   "cell_type": "code",
   "execution_count": 44,
   "metadata": {},
   "outputs": [],
   "source": [
    "from sklearn.metrics import mean_squared_error"
   ]
  },
  {
   "cell_type": "code",
   "execution_count": 45,
   "metadata": {},
   "outputs": [
    {
     "data": {
      "text/plain": [
       "2.0595551714875668"
      ]
     },
     "execution_count": 45,
     "metadata": {},
     "output_type": "execute_result"
    }
   ],
   "source": [
    "np.sqrt(mean_squared_error(valdv,pred))"
   ]
  },
  {
   "cell_type": "code",
   "execution_count": 58,
   "metadata": {},
   "outputs": [],
   "source": [
    "test=pd.read_csv('test_8i3B3FC.csv')"
   ]
  },
  {
   "cell_type": "code",
   "execution_count": 59,
   "metadata": {},
   "outputs": [
    {
     "data": {
      "text/plain": [
       "Index(['ID', 'Tag', 'Reputation', 'Answers', 'Username', 'Views'], dtype='object')"
      ]
     },
     "execution_count": 59,
     "metadata": {},
     "output_type": "execute_result"
    }
   ],
   "source": [
    "test.columns"
   ]
  },
  {
   "cell_type": "code",
   "execution_count": 60,
   "metadata": {},
   "outputs": [
    {
     "data": {
      "text/plain": [
       "array(['a', 'c', 'i', 'x', 's', 'p', 'o', 'j', 'h', 'r'], dtype=object)"
      ]
     },
     "execution_count": 60,
     "metadata": {},
     "output_type": "execute_result"
    }
   ],
   "source": [
    "pd.unique(test.Tag.values.ravel())"
   ]
  },
  {
   "cell_type": "code",
   "execution_count": 67,
   "metadata": {},
   "outputs": [],
   "source": [
    "test2=test.drop('ID',axis=1)"
   ]
  },
  {
   "cell_type": "code",
   "execution_count": 38,
   "metadata": {},
   "outputs": [],
   "source": [
    "#pd.Categorical.from_codes(codes=pd.unique(train2.Tag.values.ravel()),categories=pd.unique(train.Tag.values.ravel()))"
   ]
  },
  {
   "cell_type": "code",
   "execution_count": 68,
   "metadata": {},
   "outputs": [],
   "source": [
    "test2['Tag']=test2.Tag.astype('category').cat.codes"
   ]
  },
  {
   "cell_type": "code",
   "execution_count": 69,
   "metadata": {},
   "outputs": [
    {
     "data": {
      "text/plain": [
       "array([0, 1, 3, 9, 8, 6, 5, 4, 2, 7], dtype=int64)"
      ]
     },
     "execution_count": 69,
     "metadata": {},
     "output_type": "execute_result"
    }
   ],
   "source": [
    "pd.unique(test2.Tag.values.ravel())"
   ]
  },
  {
   "cell_type": "code",
   "execution_count": 97,
   "metadata": {
    "scrolled": true
   },
   "outputs": [
    {
     "name": "stdout",
     "output_type": "stream",
     "text": [
      "[Parallel(n_jobs=6)]: Done   1 out of 177 | elapsed:    0.0s remaining:    2.0s\n",
      "[Parallel(n_jobs=6)]: Done   3 out of 177 | elapsed:    0.0s remaining:    0.8s\n",
      "[Parallel(n_jobs=6)]: Done   6 out of 305 | elapsed:    0.0s remaining:    0.9s\n",
      "[Parallel(n_jobs=6)]: Done   4 out of 305 | elapsed:    0.0s remaining:    1.4s\n",
      "[Parallel(n_jobs=6)]: Done   5 out of 305 | elapsed:    0.0s remaining:    1.3s\n",
      "[Parallel(n_jobs=6)]: Done   2 out of 305 | elapsed:    0.0s remaining:    3.5s\n",
      "[Parallel(n_jobs=6)]: Done   9 out of 305 | elapsed:    0.0s remaining:    0.8s\n",
      "[Parallel(n_jobs=6)]: Done  10 out of 305 | elapsed:    0.0s remaining:    0.8s\n",
      "[Parallel(n_jobs=6)]: Done   7 out of 305 | elapsed:    0.0s remaining:    1.4s\n",
      "[Parallel(n_jobs=6)]: Done   8 out of 305 | elapsed:    0.0s remaining:    1.2s\n",
      "[Parallel(n_jobs=6)]: Done  12 out of 305 | elapsed:    0.0s remaining:    0.8s\n",
      "[Parallel(n_jobs=6)]: Done  11 out of 305 | elapsed:    0.0s remaining:    0.9s\n",
      "[Parallel(n_jobs=6)]: Done  14 out of 305 | elapsed:    0.0s remaining:    0.6s\n",
      "[Parallel(n_jobs=6)]: Done  15 out of 305 | elapsed:    0.0s remaining:    0.8s\n",
      "[Parallel(n_jobs=6)]: Done  13 out of 305 | elapsed:    0.0s remaining:    0.9s\n",
      "[Parallel(n_jobs=6)]: Done  19 out of 306 | elapsed:    0.0s remaining:    0.6s\n",
      "[Parallel(n_jobs=6)]: Done  20 out of 306 | elapsed:    0.0s remaining:    0.6s\n",
      "[Parallel(n_jobs=6)]: Done  21 out of 306 | elapsed:    0.0s remaining:    0.6s\n",
      "[Parallel(n_jobs=6)]: Done  18 out of 306 | elapsed:    0.0s remaining:    0.7s\n",
      "[Parallel(n_jobs=6)]: Done  16 out of 306 | elapsed:    0.0s remaining:    0.9s\n",
      "[Parallel(n_jobs=6)]: Done  24 out of 396 | elapsed:    0.0s remaining:    0.8s\n",
      "[Parallel(n_jobs=6)]: Done  17 out of 396 | elapsed:    0.0s remaining:    1.2s\n",
      "[Parallel(n_jobs=6)]: Done  25 out of 396 | elapsed:    0.0s remaining:    0.8s\n",
      "[Parallel(n_jobs=6)]: Done  26 out of 456 | elapsed:    0.0s remaining:    1.0s\n",
      "[Parallel(n_jobs=6)]: Done  27 out of 458 | elapsed:    0.0s remaining:    0.9s\n",
      "[Parallel(n_jobs=6)]: Done  28 out of 471 | elapsed:    0.0s remaining:    1.0s\n",
      "[Parallel(n_jobs=6)]: Done  22 out of 630 | elapsed:    0.0s remaining:    1.9s\n",
      "[Parallel(n_jobs=6)]: Done  30 out of 630 | elapsed:    0.0s remaining:    1.3s\n",
      "[Parallel(n_jobs=6)]: Done  31 out of 641 | elapsed:    0.0s remaining:    1.3s\n",
      "[Parallel(n_jobs=6)]: Done  33 out of 800 | elapsed:    0.0s remaining:    1.9s\n",
      "[Parallel(n_jobs=6)]: Done  23 out of 800 | elapsed:    0.0s remaining:    2.7s\n",
      "[Parallel(n_jobs=6)]: Done  35 out of 800 | elapsed:    0.0s remaining:    1.7s\n",
      "[Parallel(n_jobs=6)]: Done  32 out of 800 | elapsed:    0.0s remaining:    2.1s\n",
      "[Parallel(n_jobs=6)]: Done  36 out of 800 | elapsed:    0.0s remaining:    1.9s\n",
      "[Parallel(n_jobs=6)]: Done  29 out of 800 | elapsed:    0.0s remaining:    2.5s\n",
      "[Parallel(n_jobs=6)]: Done  37 out of 800 | elapsed:    0.0s remaining:    1.9s\n",
      "[Parallel(n_jobs=6)]: Done  39 out of 800 | elapsed:    0.0s remaining:    1.9s\n",
      "[Parallel(n_jobs=6)]: Done  34 out of 800 | elapsed:    0.0s remaining:    2.2s\n",
      "[Parallel(n_jobs=6)]: Done  40 out of 800 | elapsed:    0.0s remaining:    1.8s\n",
      "[Parallel(n_jobs=6)]: Done  42 out of 800 | elapsed:    0.0s remaining:    1.8s\n",
      "[Parallel(n_jobs=6)]: Done  43 out of 800 | elapsed:    0.0s remaining:    1.7s\n",
      "[Parallel(n_jobs=6)]: Done  44 out of 800 | elapsed:    0.0s remaining:    1.8s\n",
      "[Parallel(n_jobs=6)]: Done  45 out of 800 | elapsed:    0.0s remaining:    1.7s\n",
      "[Parallel(n_jobs=6)]: Done  47 out of 800 | elapsed:    0.0s remaining:    1.7s\n",
      "[Parallel(n_jobs=6)]: Done  46 out of 800 | elapsed:    0.0s remaining:    1.7s\n",
      "[Parallel(n_jobs=6)]: Done  41 out of 800 | elapsed:    0.0s remaining:    2.0s\n",
      "[Parallel(n_jobs=6)]: Done  51 out of 800 | elapsed:    0.0s remaining:    1.6s\n",
      "[Parallel(n_jobs=6)]: Done  50 out of 800 | elapsed:    0.0s remaining:    1.7s\n",
      "[Parallel(n_jobs=6)]: Done  48 out of 800 | elapsed:    0.0s remaining:    1.8s\n",
      "[Parallel(n_jobs=6)]: Done  52 out of 800 | elapsed:    0.0s remaining:    1.6s\n",
      "[Parallel(n_jobs=6)]: Done  38 out of 800 | elapsed:    0.0s remaining:    2.5s\n",
      "[Parallel(n_jobs=6)]: Done  55 out of 800 | elapsed:    0.0s remaining:    1.6s\n",
      "[Parallel(n_jobs=6)]: Done  56 out of 800 | elapsed:    0.0s remaining:    1.6s\n",
      "[Parallel(n_jobs=6)]: Done  57 out of 800 | elapsed:    0.0s remaining:    1.7s\n",
      "[Parallel(n_jobs=6)]: Done  49 out of 800 | elapsed:    0.0s remaining:    2.0s\n",
      "[Parallel(n_jobs=6)]: Done  58 out of 800 | elapsed:    0.0s remaining:    1.6s\n",
      "[Parallel(n_jobs=6)]: Done  54 out of 800 | elapsed:    0.0s remaining:    1.8s\n",
      "[Parallel(n_jobs=6)]: Done  60 out of 800 | elapsed:    0.0s remaining:    1.7s\n",
      "[Parallel(n_jobs=6)]: Done  59 out of 800 | elapsed:    0.0s remaining:    1.7s\n",
      "[Parallel(n_jobs=6)]: Done  63 out of 800 | elapsed:    0.0s remaining:    1.6s\n",
      "[Parallel(n_jobs=6)]: Done  61 out of 800 | elapsed:    0.0s remaining:    1.7s\n",
      "[Parallel(n_jobs=6)]: Done  64 out of 800 | elapsed:    0.0s remaining:    1.6s\n",
      "[Parallel(n_jobs=6)]: Done  65 out of 800 | elapsed:    0.1s remaining:    1.6s\n",
      "[Parallel(n_jobs=6)]: Done  66 out of 800 | elapsed:    0.1s remaining:    1.6s\n",
      "[Parallel(n_jobs=6)]: Done  67 out of 800 | elapsed:    0.1s remaining:    1.6s\n",
      "[Parallel(n_jobs=6)]: Done  68 out of 800 | elapsed:    0.1s remaining:    1.6s\n",
      "[Parallel(n_jobs=6)]: Done  69 out of 800 | elapsed:    0.1s remaining:    1.6s\n",
      "[Parallel(n_jobs=6)]: Done  53 out of 800 | elapsed:    0.1s remaining:    2.2s\n",
      "[Parallel(n_jobs=6)]: Done  70 out of 800 | elapsed:    0.1s remaining:    1.6s\n",
      "[Parallel(n_jobs=6)]: Done  73 out of 800 | elapsed:    0.1s remaining:    1.5s\n",
      "[Parallel(n_jobs=6)]: Done  74 out of 800 | elapsed:    0.1s remaining:    1.5s\n",
      "[Parallel(n_jobs=6)]: Done  62 out of 800 | elapsed:    0.1s remaining:    1.8s\n",
      "[Parallel(n_jobs=6)]: Done  72 out of 800 | elapsed:    0.1s remaining:    1.7s\n",
      "[Parallel(n_jobs=6)]: Done  77 out of 800 | elapsed:    0.1s remaining:    1.5s\n",
      "[Parallel(n_jobs=6)]: Done  76 out of 800 | elapsed:    0.1s remaining:    1.6s\n",
      "[Parallel(n_jobs=6)]: Done  71 out of 800 | elapsed:    0.1s remaining:    1.7s\n",
      "[Parallel(n_jobs=6)]: Done  78 out of 800 | elapsed:    0.1s remaining:    1.5s\n",
      "[Parallel(n_jobs=6)]: Done  75 out of 800 | elapsed:    0.1s remaining:    1.6s\n",
      "[Parallel(n_jobs=6)]: Done  79 out of 800 | elapsed:    0.1s remaining:    1.5s\n",
      "[Parallel(n_jobs=6)]: Done  80 out of 800 | elapsed:    0.1s remaining:    1.5s\n",
      "[Parallel(n_jobs=6)]: Done  82 out of 800 | elapsed:    0.1s remaining:    1.4s\n",
      "[Parallel(n_jobs=6)]: Done  83 out of 800 | elapsed:    0.1s remaining:    1.4s\n",
      "[Parallel(n_jobs=6)]: Done  84 out of 800 | elapsed:    0.1s remaining:    1.5s\n",
      "[Parallel(n_jobs=6)]: Done  81 out of 800 | elapsed:    0.1s remaining:    1.6s\n",
      "[Parallel(n_jobs=6)]: Done  85 out of 800 | elapsed:    0.1s remaining:    1.5s\n",
      "[Parallel(n_jobs=6)]: Done  86 out of 800 | elapsed:    0.1s remaining:    1.5s\n",
      "[Parallel(n_jobs=6)]: Done  87 out of 800 | elapsed:    0.1s remaining:    1.5s\n",
      "[Parallel(n_jobs=6)]: Done  88 out of 800 | elapsed:    0.1s remaining:    1.4s\n",
      "[Parallel(n_jobs=6)]: Done  89 out of 800 | elapsed:    0.1s remaining:    1.4s\n",
      "[Parallel(n_jobs=6)]: Done  90 out of 800 | elapsed:    0.1s remaining:    1.5s\n",
      "[Parallel(n_jobs=6)]: Done  91 out of 800 | elapsed:    0.1s remaining:    1.5s\n",
      "[Parallel(n_jobs=6)]: Done  95 out of 800 | elapsed:    0.1s remaining:    1.4s\n",
      "[Parallel(n_jobs=6)]: Done  93 out of 800 | elapsed:    0.1s remaining:    1.5s\n",
      "[Parallel(n_jobs=6)]: Done  92 out of 800 | elapsed:    0.1s remaining:    1.5s\n",
      "[Parallel(n_jobs=6)]: Done  96 out of 800 | elapsed:    0.1s remaining:    1.4s\n",
      "[Parallel(n_jobs=6)]: Done  97 out of 800 | elapsed:    0.1s remaining:    1.4s\n",
      "[Parallel(n_jobs=6)]: Done  98 out of 800 | elapsed:    0.1s remaining:    1.4s\n",
      "[Parallel(n_jobs=6)]: Done  99 out of 800 | elapsed:    0.1s remaining:    1.4s\n",
      "[Parallel(n_jobs=6)]: Done 100 out of 800 | elapsed:    0.1s remaining:    1.3s\n",
      "[Parallel(n_jobs=6)]: Done 101 out of 800 | elapsed:    0.1s remaining:    1.4s\n",
      "[Parallel(n_jobs=6)]: Done 105 out of 800 | elapsed:    0.1s remaining:    1.4s\n",
      "[Parallel(n_jobs=6)]: Done  94 out of 800 | elapsed:    0.1s remaining:    1.6s\n",
      "[Parallel(n_jobs=6)]: Done 106 out of 800 | elapsed:    0.1s remaining:    1.4s\n",
      "[Parallel(n_jobs=6)]: Done 107 out of 800 | elapsed:    0.1s remaining:    1.4s\n",
      "[Parallel(n_jobs=6)]: Done 103 out of 800 | elapsed:    0.1s remaining:    1.5s\n",
      "[Parallel(n_jobs=6)]: Done 108 out of 800 | elapsed:    0.1s remaining:    1.4s\n",
      "[Parallel(n_jobs=6)]: Done 102 out of 800 | elapsed:    0.1s remaining:    1.6s\n",
      "[Parallel(n_jobs=6)]: Done 104 out of 800 | elapsed:    0.1s remaining:    1.5s\n",
      "[Parallel(n_jobs=6)]: Done 110 out of 800 | elapsed:    0.2s remaining:    1.5s\n",
      "[Parallel(n_jobs=6)]: Done 111 out of 800 | elapsed:    0.2s remaining:    1.5s\n",
      "[Parallel(n_jobs=6)]: Done 109 out of 800 | elapsed:    0.2s remaining:    1.5s\n",
      "[Parallel(n_jobs=6)]: Done 112 out of 800 | elapsed:    0.2s remaining:    1.4s\n",
      "[Parallel(n_jobs=6)]: Done 116 out of 800 | elapsed:    0.2s remaining:    1.4s\n",
      "[Parallel(n_jobs=6)]: Done 118 out of 800 | elapsed:    0.2s remaining:    1.4s\n",
      "[Parallel(n_jobs=6)]: Done 113 out of 800 | elapsed:    0.2s remaining:    1.5s\n",
      "[Parallel(n_jobs=6)]: Done 119 out of 800 | elapsed:    0.2s remaining:    1.4s\n",
      "[Parallel(n_jobs=6)]: Done 114 out of 800 | elapsed:    0.2s remaining:    1.5s\n",
      "[Parallel(n_jobs=6)]: Done 120 out of 800 | elapsed:    0.2s remaining:    1.4s\n",
      "[Parallel(n_jobs=6)]: Done 121 out of 800 | elapsed:    0.2s remaining:    1.4s\n",
      "[Parallel(n_jobs=6)]: Done 122 out of 800 | elapsed:    0.2s remaining:    1.4s\n",
      "[Parallel(n_jobs=6)]: Done 117 out of 800 | elapsed:    0.2s remaining:    1.5s\n",
      "[Parallel(n_jobs=6)]: Done 125 out of 800 | elapsed:    0.2s remaining:    1.4s\n",
      "[Parallel(n_jobs=6)]: Done 115 out of 800 | elapsed:    0.2s remaining:    1.5s\n",
      "[Parallel(n_jobs=6)]: Done 127 out of 800 | elapsed:    0.2s remaining:    1.4s\n",
      "[Parallel(n_jobs=6)]: Done 123 out of 800 | elapsed:    0.2s remaining:    1.4s\n",
      "[Parallel(n_jobs=6)]: Done 129 out of 800 | elapsed:    0.2s remaining:    1.4s\n",
      "[Parallel(n_jobs=6)]: Done 131 out of 800 | elapsed:    0.2s remaining:    1.4s\n",
      "[Parallel(n_jobs=6)]: Done 130 out of 800 | elapsed:    0.2s remaining:    1.4s\n",
      "[Parallel(n_jobs=6)]: Done 124 out of 800 | elapsed:    0.2s remaining:    1.5s\n",
      "[Parallel(n_jobs=6)]: Done 132 out of 800 | elapsed:    0.2s remaining:    1.4s\n",
      "[Parallel(n_jobs=6)]: Done 128 out of 800 | elapsed:    0.2s remaining:    1.4s\n",
      "[Parallel(n_jobs=6)]: Done 135 out of 800 | elapsed:    0.2s remaining:    1.4s\n",
      "[Parallel(n_jobs=6)]: Done 126 out of 800 | elapsed:    0.2s remaining:    1.5s\n",
      "[Parallel(n_jobs=6)]: Done 136 out of 800 | elapsed:    0.2s remaining:    1.4s\n",
      "[Parallel(n_jobs=6)]: Done 137 out of 800 | elapsed:    0.2s remaining:    1.3s\n",
      "[Parallel(n_jobs=6)]: Done 138 out of 800 | elapsed:    0.2s remaining:    1.4s\n",
      "[Parallel(n_jobs=6)]: Done 139 out of 800 | elapsed:    0.2s remaining:    1.3s\n",
      "[Parallel(n_jobs=6)]: Done 134 out of 800 | elapsed:    0.2s remaining:    1.4s\n",
      "[Parallel(n_jobs=6)]: Done 141 out of 800 | elapsed:    0.2s remaining:    1.3s\n",
      "[Parallel(n_jobs=6)]: Done 142 out of 800 | elapsed:    0.2s remaining:    1.3s\n",
      "[Parallel(n_jobs=6)]: Done 143 out of 800 | elapsed:    0.2s remaining:    1.3s\n",
      "[Parallel(n_jobs=6)]: Done 144 out of 800 | elapsed:    0.2s remaining:    1.3s\n",
      "[Parallel(n_jobs=6)]: Done 145 out of 800 | elapsed:    0.2s remaining:    1.3s\n",
      "[Parallel(n_jobs=6)]: Done 133 out of 800 | elapsed:    0.2s remaining:    1.5s\n",
      "[Parallel(n_jobs=6)]: Done 147 out of 800 | elapsed:    0.2s remaining:    1.3s\n",
      "[Parallel(n_jobs=6)]: Done 149 out of 800 | elapsed:    0.2s remaining:    1.3s\n",
      "[Parallel(n_jobs=6)]: Done 148 out of 800 | elapsed:    0.2s remaining:    1.3s\n",
      "[Parallel(n_jobs=6)]: Done 150 out of 800 | elapsed:    0.2s remaining:    1.2s\n",
      "[Parallel(n_jobs=6)]: Done 151 out of 800 | elapsed:    0.2s remaining:    1.2s\n",
      "[Parallel(n_jobs=6)]: Done 153 out of 800 | elapsed:    0.2s remaining:    1.3s\n",
      "[Parallel(n_jobs=6)]: Done 154 out of 800 | elapsed:    0.2s remaining:    1.3s\n",
      "[Parallel(n_jobs=6)]: Done 140 out of 800 | elapsed:    0.2s remaining:    1.4s\n",
      "[Parallel(n_jobs=6)]: Done 146 out of 800 | elapsed:    0.2s remaining:    1.4s\n",
      "[Parallel(n_jobs=6)]: Done 156 out of 800 | elapsed:    0.2s remaining:    1.2s\n",
      "[Parallel(n_jobs=6)]: Done 157 out of 800 | elapsed:    0.2s remaining:    1.2s\n",
      "[Parallel(n_jobs=6)]: Done 158 out of 800 | elapsed:    0.2s remaining:    1.2s\n",
      "[Parallel(n_jobs=6)]: Done 159 out of 800 | elapsed:    0.2s remaining:    1.3s\n",
      "[Parallel(n_jobs=6)]: Done 155 out of 800 | elapsed:    0.2s remaining:    1.3s\n",
      "[Parallel(n_jobs=6)]: Done 161 out of 800 | elapsed:    0.2s remaining:    1.3s\n",
      "[Parallel(n_jobs=6)]: Done 162 out of 800 | elapsed:    0.2s remaining:    1.2s\n",
      "[Parallel(n_jobs=6)]: Done 163 out of 800 | elapsed:    0.3s remaining:    1.3s\n",
      "[Parallel(n_jobs=6)]: Done 164 out of 800 | elapsed:    0.3s remaining:    1.3s\n",
      "[Parallel(n_jobs=6)]: Done 165 out of 800 | elapsed:    0.3s remaining:    1.3s\n",
      "[Parallel(n_jobs=6)]: Done 166 out of 800 | elapsed:    0.3s remaining:    1.3s\n",
      "[Parallel(n_jobs=6)]: Done 167 out of 800 | elapsed:    0.3s remaining:    1.3s\n",
      "[Parallel(n_jobs=6)]: Done 168 out of 800 | elapsed:    0.3s remaining:    1.2s\n",
      "[Parallel(n_jobs=6)]: Done 152 out of 800 | elapsed:    0.3s remaining:    1.4s\n",
      "[Parallel(n_jobs=6)]: Done 171 out of 800 | elapsed:    0.3s remaining:    1.2s\n",
      "[Parallel(n_jobs=6)]: Done 172 out of 800 | elapsed:    0.3s remaining:    1.2s\n",
      "[Parallel(n_jobs=6)]: Done 160 out of 800 | elapsed:    0.3s remaining:    1.4s\n",
      "[Parallel(n_jobs=6)]: Done 174 out of 800 | elapsed:    0.3s remaining:    1.2s\n",
      "[Parallel(n_jobs=6)]: Done 175 out of 800 | elapsed:    0.3s remaining:    1.2s\n",
      "[Parallel(n_jobs=6)]: Done 173 out of 800 | elapsed:    0.3s remaining:    1.3s\n",
      "[Parallel(n_jobs=6)]: Done 176 out of 800 | elapsed:    0.3s remaining:    1.2s\n",
      "[Parallel(n_jobs=6)]: Done 170 out of 800 | elapsed:    0.3s remaining:    1.3s\n",
      "[Parallel(n_jobs=6)]: Done 179 out of 800 | elapsed:    0.3s remaining:    1.2s\n",
      "[Parallel(n_jobs=6)]: Done 178 out of 800 | elapsed:    0.3s remaining:    1.2s\n",
      "[Parallel(n_jobs=6)]: Done 180 out of 800 | elapsed:    0.3s remaining:    1.2s\n",
      "[Parallel(n_jobs=6)]: Done 181 out of 800 | elapsed:    0.3s remaining:    1.2s\n",
      "[Parallel(n_jobs=6)]: Done 183 out of 800 | elapsed:    0.3s remaining:    1.2s\n",
      "[Parallel(n_jobs=6)]: Done 182 out of 800 | elapsed:    0.3s remaining:    1.2s\n",
      "[Parallel(n_jobs=6)]: Done 184 out of 800 | elapsed:    0.3s remaining:    1.2s\n",
      "[Parallel(n_jobs=6)]: Done 185 out of 800 | elapsed:    0.3s remaining:    1.2s\n",
      "[Parallel(n_jobs=6)]: Done 187 out of 800 | elapsed:    0.3s remaining:    1.2s\n",
      "[Parallel(n_jobs=6)]: Done 186 out of 800 | elapsed:    0.3s remaining:    1.2s\n",
      "[Parallel(n_jobs=6)]: Done 189 out of 800 | elapsed:    0.3s remaining:    1.2s\n",
      "[Parallel(n_jobs=6)]: Done 188 out of 800 | elapsed:    0.3s remaining:    1.2s\n",
      "[Parallel(n_jobs=6)]: Done 190 out of 800 | elapsed:    0.3s remaining:    1.2s\n",
      "[Parallel(n_jobs=6)]: Done 193 out of 800 | elapsed:    0.3s remaining:    1.2s\n",
      "[Parallel(n_jobs=6)]: Done 192 out of 800 | elapsed:    0.3s remaining:    1.2s\n",
      "[Parallel(n_jobs=6)]: Done 191 out of 800 | elapsed:    0.3s remaining:    1.2s\n",
      "[Parallel(n_jobs=6)]: Done 169 out of 800 | elapsed:    0.3s remaining:    1.4s\n",
      "[Parallel(n_jobs=6)]: Done 177 out of 800 | elapsed:    0.3s remaining:    1.3s\n",
      "[Parallel(n_jobs=6)]: Done 197 out of 800 | elapsed:    0.3s remaining:    1.1s\n",
      "[Parallel(n_jobs=6)]: Done 196 out of 800 | elapsed:    0.3s remaining:    1.1s\n",
      "[Parallel(n_jobs=6)]: Done 198 out of 800 | elapsed:    0.3s remaining:    1.1s\n",
      "[Parallel(n_jobs=6)]: Done 195 out of 800 | elapsed:    0.3s remaining:    1.2s\n",
      "[Parallel(n_jobs=6)]: Done 199 out of 800 | elapsed:    0.3s remaining:    1.1s\n",
      "[Parallel(n_jobs=6)]: Done 194 out of 800 | elapsed:    0.3s remaining:    1.2s\n",
      "[Parallel(n_jobs=6)]: Done 202 out of 800 | elapsed:    0.3s remaining:    1.1s\n",
      "[Parallel(n_jobs=6)]: Done 201 out of 800 | elapsed:    0.3s remaining:    1.2s\n"
     ]
    },
    {
     "name": "stdout",
     "output_type": "stream",
     "text": [
      "[Parallel(n_jobs=6)]: Done 203 out of 800 | elapsed:    0.4s remaining:    1.2s\n",
      "[Parallel(n_jobs=6)]: Done 200 out of 800 | elapsed:    0.4s remaining:    1.3s\n",
      "[Parallel(n_jobs=6)]: Done 206 out of 800 | elapsed:    0.4s remaining:    1.2s\n",
      "[Parallel(n_jobs=6)]: Done 205 out of 800 | elapsed:    0.4s remaining:    1.2s\n",
      "[Parallel(n_jobs=6)]: Done 208 out of 800 | elapsed:    0.4s remaining:    1.2s\n",
      "[Parallel(n_jobs=6)]: Done 204 out of 800 | elapsed:    0.4s remaining:    1.2s\n",
      "[Parallel(n_jobs=6)]: Done 210 out of 800 | elapsed:    0.4s remaining:    1.2s\n",
      "[Parallel(n_jobs=6)]: Done 211 out of 800 | elapsed:    0.4s remaining:    1.2s\n",
      "[Parallel(n_jobs=6)]: Done 213 out of 800 | elapsed:    0.4s remaining:    1.1s\n",
      "[Parallel(n_jobs=6)]: Done 212 out of 800 | elapsed:    0.4s remaining:    1.2s\n",
      "[Parallel(n_jobs=6)]: Done 207 out of 800 | elapsed:    0.4s remaining:    1.2s\n",
      "[Parallel(n_jobs=6)]: Done 215 out of 800 | elapsed:    0.4s remaining:    1.1s\n",
      "[Parallel(n_jobs=6)]: Done 216 out of 800 | elapsed:    0.4s remaining:    1.1s\n",
      "[Parallel(n_jobs=6)]: Done 218 out of 800 | elapsed:    0.4s remaining:    1.1s\n",
      "[Parallel(n_jobs=6)]: Done 214 out of 800 | elapsed:    0.4s remaining:    1.1s\n",
      "[Parallel(n_jobs=6)]: Done 209 out of 800 | elapsed:    0.4s remaining:    1.2s\n",
      "[Parallel(n_jobs=6)]: Done 221 out of 800 | elapsed:    0.4s remaining:    1.1s\n",
      "[Parallel(n_jobs=6)]: Done 222 out of 800 | elapsed:    0.4s remaining:    1.1s\n",
      "[Parallel(n_jobs=6)]: Done 217 out of 800 | elapsed:    0.4s remaining:    1.1s\n",
      "[Parallel(n_jobs=6)]: Done 219 out of 800 | elapsed:    0.4s remaining:    1.2s\n",
      "[Parallel(n_jobs=6)]: Done 223 out of 800 | elapsed:    0.4s remaining:    1.1s\n",
      "[Parallel(n_jobs=6)]: Done 225 out of 800 | elapsed:    0.4s remaining:    1.1s\n",
      "[Parallel(n_jobs=6)]: Done 228 out of 800 | elapsed:    0.4s remaining:    1.1s\n",
      "[Parallel(n_jobs=6)]: Done 220 out of 800 | elapsed:    0.4s remaining:    1.2s\n",
      "[Parallel(n_jobs=6)]: Done 229 out of 800 | elapsed:    0.4s remaining:    1.1s\n",
      "[Parallel(n_jobs=6)]: Done 226 out of 800 | elapsed:    0.4s remaining:    1.1s\n",
      "[Parallel(n_jobs=6)]: Done 227 out of 800 | elapsed:    0.4s remaining:    1.1s\n",
      "[Parallel(n_jobs=6)]: Done 232 out of 800 | elapsed:    0.4s remaining:    1.1s\n",
      "[Parallel(n_jobs=6)]: Done 231 out of 800 | elapsed:    0.4s remaining:    1.1s\n",
      "[Parallel(n_jobs=6)]: Done 233 out of 800 | elapsed:    0.4s remaining:    1.1s\n",
      "[Parallel(n_jobs=6)]: Done 234 out of 800 | elapsed:    0.4s remaining:    1.1s\n",
      "[Parallel(n_jobs=6)]: Done 236 out of 800 | elapsed:    0.4s remaining:    1.1s\n",
      "[Parallel(n_jobs=6)]: Done 238 out of 800 | elapsed:    0.4s remaining:    1.1s\n",
      "[Parallel(n_jobs=6)]: Done 237 out of 800 | elapsed:    0.4s remaining:    1.1s\n",
      "[Parallel(n_jobs=6)]: Done 224 out of 800 | elapsed:    0.4s remaining:    1.2s\n",
      "[Parallel(n_jobs=6)]: Done 239 out of 800 | elapsed:    0.4s remaining:    1.1s\n",
      "[Parallel(n_jobs=6)]: Done 240 out of 800 | elapsed:    0.4s remaining:    1.1s\n",
      "[Parallel(n_jobs=6)]: Done 243 out of 800 | elapsed:    0.4s remaining:    1.1s\n",
      "[Parallel(n_jobs=6)]: Done 230 out of 800 | elapsed:    0.4s remaining:    1.2s\n",
      "[Parallel(n_jobs=6)]: Done 241 out of 800 | elapsed:    0.4s remaining:    1.1s\n",
      "[Parallel(n_jobs=6)]: Done 242 out of 800 | elapsed:    0.4s remaining:    1.1s\n",
      "[Parallel(n_jobs=6)]: Done 247 out of 800 | elapsed:    0.4s remaining:    1.1s\n",
      "[Parallel(n_jobs=6)]: Done 245 out of 800 | elapsed:    0.4s remaining:    1.1s\n",
      "[Parallel(n_jobs=6)]: Done 248 out of 800 | elapsed:    0.4s remaining:    1.1s\n",
      "[Parallel(n_jobs=6)]: Done 246 out of 800 | elapsed:    0.4s remaining:    1.1s\n",
      "[Parallel(n_jobs=6)]: Done 251 out of 800 | elapsed:    0.4s remaining:    1.0s\n",
      "[Parallel(n_jobs=6)]: Done 249 out of 800 | elapsed:    0.4s remaining:    1.1s\n",
      "[Parallel(n_jobs=6)]: Done 250 out of 800 | elapsed:    0.4s remaining:    1.1s\n",
      "[Parallel(n_jobs=6)]: Done 252 out of 800 | elapsed:    0.4s remaining:    1.1s\n",
      "[Parallel(n_jobs=6)]: Done 256 out of 800 | elapsed:    0.4s remaining:    1.0s\n",
      "[Parallel(n_jobs=6)]: Done 253 out of 800 | elapsed:    0.4s remaining:    1.1s\n",
      "[Parallel(n_jobs=6)]: Done 255 out of 800 | elapsed:    0.4s remaining:    1.0s\n",
      "[Parallel(n_jobs=6)]: Done 254 out of 800 | elapsed:    0.4s remaining:    1.1s\n",
      "[Parallel(n_jobs=6)]: Done 260 out of 800 | elapsed:    0.4s remaining:    1.0s\n",
      "[Parallel(n_jobs=6)]: Done 259 out of 800 | elapsed:    0.4s remaining:    1.0s\n",
      "[Parallel(n_jobs=6)]: Done 244 out of 800 | elapsed:    0.4s remaining:    1.1s\n",
      "[Parallel(n_jobs=6)]: Done 235 out of 800 | elapsed:    0.4s remaining:    1.2s\n",
      "[Parallel(n_jobs=6)]: Done 258 out of 800 | elapsed:    0.5s remaining:    1.1s\n",
      "[Parallel(n_jobs=6)]: Done 263 out of 800 | elapsed:    0.5s remaining:    1.0s\n",
      "[Parallel(n_jobs=6)]: Done 264 out of 800 | elapsed:    0.5s remaining:    1.0s\n",
      "[Parallel(n_jobs=6)]: Done 267 out of 800 | elapsed:    0.5s remaining:    1.0s\n",
      "[Parallel(n_jobs=6)]: Done 266 out of 800 | elapsed:    0.5s remaining:    1.0s\n",
      "[Parallel(n_jobs=6)]: Done 265 out of 800 | elapsed:    0.5s remaining:    1.0s\n",
      "[Parallel(n_jobs=6)]: Done 268 out of 800 | elapsed:    0.5s remaining:    1.0s\n",
      "[Parallel(n_jobs=6)]: Done 269 out of 800 | elapsed:    0.5s remaining:    1.0s\n",
      "[Parallel(n_jobs=6)]: Done 270 out of 800 | elapsed:    0.5s remaining:    1.0s\n",
      "[Parallel(n_jobs=6)]: Done 257 out of 800 | elapsed:    0.5s remaining:    1.1s\n",
      "[Parallel(n_jobs=6)]: Done 261 out of 800 | elapsed:    0.5s remaining:    1.1s\n",
      "[Parallel(n_jobs=6)]: Done 272 out of 800 | elapsed:    0.5s remaining:    1.0s\n",
      "[Parallel(n_jobs=6)]: Done 273 out of 800 | elapsed:    0.5s remaining:    1.0s\n",
      "[Parallel(n_jobs=6)]: Done 262 out of 800 | elapsed:    0.5s remaining:    1.1s\n",
      "[Parallel(n_jobs=6)]: Done 275 out of 800 | elapsed:    0.5s remaining:    1.0s\n",
      "[Parallel(n_jobs=6)]: Done 278 out of 800 | elapsed:    0.5s remaining:    1.0s\n",
      "[Parallel(n_jobs=6)]: Done 274 out of 800 | elapsed:    0.5s remaining:    1.0s\n",
      "[Parallel(n_jobs=6)]: Done 271 out of 800 | elapsed:    0.5s remaining:    1.0s\n",
      "[Parallel(n_jobs=6)]: Done 279 out of 800 | elapsed:    0.5s remaining:    1.0s\n",
      "[Parallel(n_jobs=6)]: Done 281 out of 800 | elapsed:    0.5s remaining:    1.0s\n",
      "[Parallel(n_jobs=6)]: Done 280 out of 800 | elapsed:    0.5s remaining:    1.0s\n",
      "[Parallel(n_jobs=6)]: Done 283 out of 800 | elapsed:    0.5s remaining:    1.0s\n",
      "[Parallel(n_jobs=6)]: Done 282 out of 800 | elapsed:    0.5s remaining:    1.0s\n",
      "[Parallel(n_jobs=6)]: Done 285 out of 800 | elapsed:    0.5s remaining:    1.0s\n",
      "[Parallel(n_jobs=6)]: Done 284 out of 800 | elapsed:    0.5s remaining:    1.0s\n",
      "[Parallel(n_jobs=6)]: Done 286 out of 800 | elapsed:    0.5s remaining:    1.0s\n",
      "[Parallel(n_jobs=6)]: Done 287 out of 800 | elapsed:    0.5s remaining:    1.0s\n",
      "[Parallel(n_jobs=6)]: Done 276 out of 800 | elapsed:    0.5s remaining:    1.1s\n",
      "[Parallel(n_jobs=6)]: Done 289 out of 800 | elapsed:    0.5s remaining:    1.0s\n",
      "[Parallel(n_jobs=6)]: Done 288 out of 800 | elapsed:    0.5s remaining:    1.0s\n",
      "[Parallel(n_jobs=6)]: Done 291 out of 800 | elapsed:    0.5s remaining:    1.0s\n",
      "[Parallel(n_jobs=6)]: Done 292 out of 800 | elapsed:    0.5s remaining:    1.0s\n",
      "[Parallel(n_jobs=6)]: Done 277 out of 800 | elapsed:    0.5s remaining:    1.0s\n",
      "[Parallel(n_jobs=6)]: Done 290 out of 800 | elapsed:    0.5s remaining:    1.0s\n",
      "[Parallel(n_jobs=6)]: Done 295 out of 800 | elapsed:    0.5s remaining:    0.9s\n",
      "[Parallel(n_jobs=6)]: Done 296 out of 800 | elapsed:    0.5s remaining:    1.0s\n",
      "[Parallel(n_jobs=6)]: Done 293 out of 800 | elapsed:    0.5s remaining:    1.0s\n",
      "[Parallel(n_jobs=6)]: Done 297 out of 800 | elapsed:    0.5s remaining:    1.0s\n",
      "[Parallel(n_jobs=6)]: Done 301 out of 800 | elapsed:    0.5s remaining:    0.9s\n",
      "[Parallel(n_jobs=6)]: Done 300 out of 800 | elapsed:    0.6s remaining:    1.0s\n",
      "[Parallel(n_jobs=6)]: Done 298 out of 800 | elapsed:    0.6s remaining:    1.0s\n",
      "[Parallel(n_jobs=6)]: Done 302 out of 800 | elapsed:    0.6s remaining:    1.0s\n",
      "[Parallel(n_jobs=6)]: Done 305 out of 800 | elapsed:    0.6s remaining:    1.0s\n",
      "[Parallel(n_jobs=6)]: Done 304 out of 800 | elapsed:    0.6s remaining:    1.0s\n",
      "[Parallel(n_jobs=6)]: Done 303 out of 800 | elapsed:    0.6s remaining:    1.0s\n",
      "[Parallel(n_jobs=6)]: Done 299 out of 800 | elapsed:    0.6s remaining:    1.0s\n",
      "[Parallel(n_jobs=6)]: Done 307 out of 800 | elapsed:    0.6s remaining:    1.0s\n",
      "[Parallel(n_jobs=6)]: Done 308 out of 800 | elapsed:    0.6s remaining:    0.9s\n",
      "[Parallel(n_jobs=6)]: Done 310 out of 800 | elapsed:    0.6s remaining:    0.9s\n",
      "[Parallel(n_jobs=6)]: Done 309 out of 800 | elapsed:    0.6s remaining:    0.9s\n",
      "[Parallel(n_jobs=6)]: Done 311 out of 800 | elapsed:    0.6s remaining:    0.9s\n",
      "[Parallel(n_jobs=6)]: Done 312 out of 800 | elapsed:    0.6s remaining:    0.9s\n",
      "[Parallel(n_jobs=6)]: Done 294 out of 800 | elapsed:    0.6s remaining:    1.0s\n",
      "[Parallel(n_jobs=6)]: Done 313 out of 800 | elapsed:    0.6s remaining:    0.9s\n",
      "[Parallel(n_jobs=6)]: Done 317 out of 800 | elapsed:    0.6s remaining:    0.9s\n",
      "[Parallel(n_jobs=6)]: Done 306 out of 800 | elapsed:    0.6s remaining:    1.0s\n",
      "[Parallel(n_jobs=6)]: Done 318 out of 800 | elapsed:    0.6s remaining:    0.9s\n",
      "[Parallel(n_jobs=6)]: Done 320 out of 800 | elapsed:    0.6s remaining:    0.9s\n",
      "[Parallel(n_jobs=6)]: Done 319 out of 800 | elapsed:    0.6s remaining:    0.9s\n",
      "[Parallel(n_jobs=6)]: Done 315 out of 800 | elapsed:    0.6s remaining:    0.9s\n",
      "[Parallel(n_jobs=6)]: Done 314 out of 800 | elapsed:    0.6s remaining:    0.9s\n",
      "[Parallel(n_jobs=6)]: Done 323 out of 800 | elapsed:    0.6s remaining:    0.9s\n",
      "[Parallel(n_jobs=6)]: Done 325 out of 800 | elapsed:    0.6s remaining:    0.9s\n",
      "[Parallel(n_jobs=6)]: Done 324 out of 800 | elapsed:    0.6s remaining:    0.9s\n",
      "[Parallel(n_jobs=6)]: Done 326 out of 800 | elapsed:    0.6s remaining:    0.9s\n",
      "[Parallel(n_jobs=6)]: Done 328 out of 800 | elapsed:    0.6s remaining:    0.9s\n",
      "[Parallel(n_jobs=6)]: Done 327 out of 800 | elapsed:    0.6s remaining:    0.9s\n",
      "[Parallel(n_jobs=6)]: Done 316 out of 800 | elapsed:    0.6s remaining:    1.0s\n",
      "[Parallel(n_jobs=6)]: Done 322 out of 800 | elapsed:    0.6s remaining:    0.9s\n",
      "[Parallel(n_jobs=6)]: Done 331 out of 800 | elapsed:    0.6s remaining:    0.9s\n",
      "[Parallel(n_jobs=6)]: Done 330 out of 800 | elapsed:    0.6s remaining:    0.9s\n",
      "[Parallel(n_jobs=6)]: Done 321 out of 800 | elapsed:    0.6s remaining:    0.9s\n",
      "[Parallel(n_jobs=6)]: Done 334 out of 800 | elapsed:    0.6s remaining:    0.9s\n",
      "[Parallel(n_jobs=6)]: Done 335 out of 800 | elapsed:    0.6s remaining:    0.9s\n",
      "[Parallel(n_jobs=6)]: Done 333 out of 800 | elapsed:    0.6s remaining:    0.9s\n",
      "[Parallel(n_jobs=6)]: Done 336 out of 800 | elapsed:    0.6s remaining:    0.9s\n",
      "[Parallel(n_jobs=6)]: Done 332 out of 800 | elapsed:    0.6s remaining:    0.9s\n",
      "[Parallel(n_jobs=6)]: Done 339 out of 800 | elapsed:    0.6s remaining:    0.9s\n",
      "[Parallel(n_jobs=6)]: Done 329 out of 800 | elapsed:    0.6s remaining:    0.9s\n",
      "[Parallel(n_jobs=6)]: Done 340 out of 800 | elapsed:    0.6s remaining:    0.9s\n",
      "[Parallel(n_jobs=6)]: Done 341 out of 800 | elapsed:    0.6s remaining:    0.9s\n",
      "[Parallel(n_jobs=6)]: Done 342 out of 800 | elapsed:    0.6s remaining:    0.9s\n",
      "[Parallel(n_jobs=6)]: Done 338 out of 800 | elapsed:    0.6s remaining:    0.9s\n",
      "[Parallel(n_jobs=6)]: Done 345 out of 800 | elapsed:    0.6s remaining:    0.9s\n",
      "[Parallel(n_jobs=6)]: Done 343 out of 800 | elapsed:    0.6s remaining:    0.9s\n",
      "[Parallel(n_jobs=6)]: Done 344 out of 800 | elapsed:    0.6s remaining:    0.9s\n",
      "[Parallel(n_jobs=6)]: Done 347 out of 800 | elapsed:    0.6s remaining:    0.9s\n",
      "[Parallel(n_jobs=6)]: Done 348 out of 800 | elapsed:    0.6s remaining:    0.9s\n",
      "[Parallel(n_jobs=6)]: Done 349 out of 800 | elapsed:    0.6s remaining:    0.9s\n",
      "[Parallel(n_jobs=6)]: Done 350 out of 800 | elapsed:    0.6s remaining:    0.9s\n",
      "[Parallel(n_jobs=6)]: Done 351 out of 800 | elapsed:    0.6s remaining:    0.8s\n",
      "[Parallel(n_jobs=6)]: Done 352 out of 800 | elapsed:    0.6s remaining:    0.8s\n",
      "[Parallel(n_jobs=6)]: Done 353 out of 800 | elapsed:    0.6s remaining:    0.8s\n",
      "[Parallel(n_jobs=6)]: Done 355 out of 800 | elapsed:    0.6s remaining:    0.8s\n",
      "[Parallel(n_jobs=6)]: Done 337 out of 800 | elapsed:    0.6s remaining:    0.9s\n",
      "[Parallel(n_jobs=6)]: Done 346 out of 800 | elapsed:    0.6s remaining:    0.9s\n",
      "[Parallel(n_jobs=6)]: Done 358 out of 800 | elapsed:    0.7s remaining:    0.8s\n",
      "[Parallel(n_jobs=6)]: Done 360 out of 800 | elapsed:    0.7s remaining:    0.8s\n",
      "[Parallel(n_jobs=6)]: Done 359 out of 800 | elapsed:    0.7s remaining:    0.8s\n",
      "[Parallel(n_jobs=6)]: Done 356 out of 800 | elapsed:    0.7s remaining:    0.8s\n",
      "[Parallel(n_jobs=6)]: Done 363 out of 800 | elapsed:    0.7s remaining:    0.8s\n",
      "[Parallel(n_jobs=6)]: Done 362 out of 800 | elapsed:    0.7s remaining:    0.8s\n",
      "[Parallel(n_jobs=6)]: Done 365 out of 800 | elapsed:    0.7s remaining:    0.8s\n",
      "[Parallel(n_jobs=6)]: Done 364 out of 800 | elapsed:    0.7s remaining:    0.8s\n",
      "[Parallel(n_jobs=6)]: Done 366 out of 800 | elapsed:    0.7s remaining:    0.8s\n",
      "[Parallel(n_jobs=6)]: Done 368 out of 800 | elapsed:    0.7s remaining:    0.8s\n",
      "[Parallel(n_jobs=6)]: Done 354 out of 800 | elapsed:    0.7s remaining:    0.9s\n",
      "[Parallel(n_jobs=6)]: Done 357 out of 800 | elapsed:    0.7s remaining:    0.9s\n",
      "[Parallel(n_jobs=6)]: Done 370 out of 800 | elapsed:    0.7s remaining:    0.8s\n",
      "[Parallel(n_jobs=6)]: Done 371 out of 800 | elapsed:    0.7s remaining:    0.8s\n",
      "[Parallel(n_jobs=6)]: Done 361 out of 800 | elapsed:    0.7s remaining:    0.9s\n",
      "[Parallel(n_jobs=6)]: Done 372 out of 800 | elapsed:    0.7s remaining:    0.8s\n",
      "[Parallel(n_jobs=6)]: Done 367 out of 800 | elapsed:    0.7s remaining:    0.8s\n",
      "[Parallel(n_jobs=6)]: Done 374 out of 800 | elapsed:    0.7s remaining:    0.8s\n",
      "[Parallel(n_jobs=6)]: Done 375 out of 800 | elapsed:    0.7s remaining:    0.8s\n",
      "[Parallel(n_jobs=6)]: Done 376 out of 800 | elapsed:    0.7s remaining:    0.8s\n",
      "[Parallel(n_jobs=6)]: Done 377 out of 800 | elapsed:    0.7s remaining:    0.8s\n",
      "[Parallel(n_jobs=6)]: Done 378 out of 800 | elapsed:    0.7s remaining:    0.8s\n",
      "[Parallel(n_jobs=6)]: Done 379 out of 800 | elapsed:    0.7s remaining:    0.8s\n",
      "[Parallel(n_jobs=6)]: Done 380 out of 800 | elapsed:    0.7s remaining:    0.8s\n",
      "[Parallel(n_jobs=6)]: Done 381 out of 800 | elapsed:    0.7s remaining:    0.8s\n",
      "[Parallel(n_jobs=6)]: Done 383 out of 800 | elapsed:    0.7s remaining:    0.8s\n",
      "[Parallel(n_jobs=6)]: Done 369 out of 800 | elapsed:    0.7s remaining:    0.8s\n",
      "[Parallel(n_jobs=6)]: Done 384 out of 800 | elapsed:    0.7s remaining:    0.8s\n",
      "[Parallel(n_jobs=6)]: Done 385 out of 800 | elapsed:    0.7s remaining:    0.8s\n",
      "[Parallel(n_jobs=6)]: Done 386 out of 800 | elapsed:    0.7s remaining:    0.8s\n",
      "[Parallel(n_jobs=6)]: Done 387 out of 800 | elapsed:    0.7s remaining:    0.8s\n",
      "[Parallel(n_jobs=6)]: Done 389 out of 800 | elapsed:    0.7s remaining:    0.8s\n",
      "[Parallel(n_jobs=6)]: Done 373 out of 800 | elapsed:    0.7s remaining:    0.9s\n",
      "[Parallel(n_jobs=6)]: Done 382 out of 800 | elapsed:    0.7s remaining:    0.8s\n",
      "[Parallel(n_jobs=6)]: Done 391 out of 800 | elapsed:    0.7s remaining:    0.8s\n",
      "[Parallel(n_jobs=6)]: Done 393 out of 800 | elapsed:    0.7s remaining:    0.8s\n",
      "[Parallel(n_jobs=6)]: Done 394 out of 800 | elapsed:    0.7s remaining:    0.8s\n",
      "[Parallel(n_jobs=6)]: Done 388 out of 800 | elapsed:    0.7s remaining:    0.8s\n",
      "[Parallel(n_jobs=6)]: Done 395 out of 800 | elapsed:    0.7s remaining:    0.8s\n",
      "[Parallel(n_jobs=6)]: Done 396 out of 800 | elapsed:    0.7s remaining:    0.8s\n",
      "[Parallel(n_jobs=6)]: Done 397 out of 800 | elapsed:    0.7s remaining:    0.8s\n",
      "[Parallel(n_jobs=6)]: Done 398 out of 800 | elapsed:    0.7s remaining:    0.8s\n",
      "[Parallel(n_jobs=6)]: Done 400 out of 800 | elapsed:    0.7s remaining:    0.7s\n",
      "[Parallel(n_jobs=6)]: Done 401 out of 800 | elapsed:    0.7s remaining:    0.7s\n",
      "[Parallel(n_jobs=6)]: Done 402 out of 800 | elapsed:    0.7s remaining:    0.7s\n",
      "[Parallel(n_jobs=6)]: Done 390 out of 800 | elapsed:    0.7s remaining:    0.8s\n",
      "[Parallel(n_jobs=6)]: Done 392 out of 800 | elapsed:    0.7s remaining:    0.8s\n",
      "[Parallel(n_jobs=6)]: Done 405 out of 800 | elapsed:    0.7s remaining:    0.7s\n",
      "[Parallel(n_jobs=6)]: Done 406 out of 800 | elapsed:    0.7s remaining:    0.7s\n",
      "[Parallel(n_jobs=6)]: Done 399 out of 800 | elapsed:    0.8s remaining:    0.8s\n"
     ]
    },
    {
     "name": "stdout",
     "output_type": "stream",
     "text": [
      "[Parallel(n_jobs=6)]: Done 407 out of 800 | elapsed:    0.8s remaining:    0.7s\n",
      "[Parallel(n_jobs=6)]: Done 409 out of 800 | elapsed:    0.8s remaining:    0.7s\n",
      "[Parallel(n_jobs=6)]: Done 410 out of 800 | elapsed:    0.8s remaining:    0.7s\n",
      "[Parallel(n_jobs=6)]: Done 411 out of 800 | elapsed:    0.8s remaining:    0.7s\n",
      "[Parallel(n_jobs=6)]: Done 412 out of 800 | elapsed:    0.8s remaining:    0.7s\n",
      "[Parallel(n_jobs=6)]: Done 413 out of 800 | elapsed:    0.8s remaining:    0.7s\n",
      "[Parallel(n_jobs=6)]: Done 404 out of 800 | elapsed:    0.8s remaining:    0.8s\n",
      "[Parallel(n_jobs=6)]: Done 414 out of 800 | elapsed:    0.8s remaining:    0.7s\n",
      "[Parallel(n_jobs=6)]: Done 416 out of 800 | elapsed:    0.8s remaining:    0.7s\n",
      "[Parallel(n_jobs=6)]: Done 417 out of 800 | elapsed:    0.8s remaining:    0.7s\n",
      "[Parallel(n_jobs=6)]: Done 418 out of 800 | elapsed:    0.8s remaining:    0.7s\n",
      "[Parallel(n_jobs=6)]: Done 419 out of 800 | elapsed:    0.8s remaining:    0.7s\n",
      "[Parallel(n_jobs=6)]: Done 420 out of 800 | elapsed:    0.8s remaining:    0.7s\n",
      "[Parallel(n_jobs=6)]: Done 403 out of 800 | elapsed:    0.8s remaining:    0.8s\n",
      "[Parallel(n_jobs=6)]: Done 424 out of 800 | elapsed:    0.8s remaining:    0.7s\n",
      "[Parallel(n_jobs=6)]: Done 423 out of 800 | elapsed:    0.8s remaining:    0.7s\n",
      "[Parallel(n_jobs=6)]: Done 408 out of 800 | elapsed:    0.8s remaining:    0.8s\n",
      "[Parallel(n_jobs=6)]: Done 421 out of 800 | elapsed:    0.8s remaining:    0.7s\n",
      "[Parallel(n_jobs=6)]: Done 425 out of 800 | elapsed:    0.8s remaining:    0.7s\n",
      "[Parallel(n_jobs=6)]: Done 426 out of 800 | elapsed:    0.8s remaining:    0.7s\n",
      "[Parallel(n_jobs=6)]: Done 427 out of 800 | elapsed:    0.8s remaining:    0.7s\n",
      "[Parallel(n_jobs=6)]: Done 415 out of 800 | elapsed:    0.8s remaining:    0.7s\n",
      "[Parallel(n_jobs=6)]: Done 431 out of 800 | elapsed:    0.8s remaining:    0.7s\n",
      "[Parallel(n_jobs=6)]: Done 429 out of 800 | elapsed:    0.8s remaining:    0.7s\n",
      "[Parallel(n_jobs=6)]: Done 422 out of 800 | elapsed:    0.8s remaining:    0.7s\n",
      "[Parallel(n_jobs=6)]: Done 432 out of 800 | elapsed:    0.8s remaining:    0.7s\n",
      "[Parallel(n_jobs=6)]: Done 434 out of 800 | elapsed:    0.8s remaining:    0.7s\n",
      "[Parallel(n_jobs=6)]: Done 435 out of 800 | elapsed:    0.8s remaining:    0.7s\n",
      "[Parallel(n_jobs=6)]: Done 433 out of 800 | elapsed:    0.8s remaining:    0.7s\n",
      "[Parallel(n_jobs=6)]: Done 436 out of 800 | elapsed:    0.8s remaining:    0.7s\n",
      "[Parallel(n_jobs=6)]: Done 428 out of 800 | elapsed:    0.8s remaining:    0.7s\n",
      "[Parallel(n_jobs=6)]: Done 439 out of 800 | elapsed:    0.8s remaining:    0.7s\n",
      "[Parallel(n_jobs=6)]: Done 438 out of 800 | elapsed:    0.8s remaining:    0.7s\n",
      "[Parallel(n_jobs=6)]: Done 443 out of 800 | elapsed:    0.8s remaining:    0.7s\n",
      "[Parallel(n_jobs=6)]: Done 440 out of 800 | elapsed:    0.8s remaining:    0.7s\n",
      "[Parallel(n_jobs=6)]: Done 441 out of 800 | elapsed:    0.8s remaining:    0.7s\n",
      "[Parallel(n_jobs=6)]: Done 430 out of 800 | elapsed:    0.8s remaining:    0.7s\n",
      "[Parallel(n_jobs=6)]: Done 444 out of 800 | elapsed:    0.8s remaining:    0.7s\n",
      "[Parallel(n_jobs=6)]: Done 446 out of 800 | elapsed:    0.8s remaining:    0.6s\n",
      "[Parallel(n_jobs=6)]: Done 448 out of 800 | elapsed:    0.9s remaining:    0.7s\n",
      "[Parallel(n_jobs=6)]: Done 445 out of 800 | elapsed:    0.9s remaining:    0.7s\n",
      "[Parallel(n_jobs=6)]: Done 447 out of 800 | elapsed:    0.9s remaining:    0.7s\n",
      "[Parallel(n_jobs=6)]: Done 449 out of 800 | elapsed:    0.9s remaining:    0.7s\n",
      "[Parallel(n_jobs=6)]: Done 437 out of 800 | elapsed:    0.9s remaining:    0.7s\n",
      "[Parallel(n_jobs=6)]: Done 442 out of 800 | elapsed:    0.9s remaining:    0.7s\n",
      "[Parallel(n_jobs=6)]: Done 451 out of 800 | elapsed:    0.9s remaining:    0.7s\n",
      "[Parallel(n_jobs=6)]: Done 452 out of 800 | elapsed:    0.9s remaining:    0.6s\n",
      "[Parallel(n_jobs=6)]: Done 454 out of 800 | elapsed:    0.9s remaining:    0.6s\n",
      "[Parallel(n_jobs=6)]: Done 455 out of 800 | elapsed:    0.9s remaining:    0.6s\n",
      "[Parallel(n_jobs=6)]: Done 456 out of 800 | elapsed:    0.9s remaining:    0.6s\n",
      "[Parallel(n_jobs=6)]: Done 458 out of 800 | elapsed:    0.9s remaining:    0.6s\n",
      "[Parallel(n_jobs=6)]: Done 457 out of 800 | elapsed:    0.9s remaining:    0.6s\n",
      "[Parallel(n_jobs=6)]: Done 459 out of 800 | elapsed:    0.9s remaining:    0.6s\n",
      "[Parallel(n_jobs=6)]: Done 461 out of 800 | elapsed:    0.9s remaining:    0.6s\n",
      "[Parallel(n_jobs=6)]: Done 460 out of 800 | elapsed:    0.9s remaining:    0.6s\n",
      "[Parallel(n_jobs=6)]: Done 462 out of 800 | elapsed:    0.9s remaining:    0.6s\n",
      "[Parallel(n_jobs=6)]: Done 463 out of 800 | elapsed:    0.9s remaining:    0.6s\n",
      "[Parallel(n_jobs=6)]: Done 464 out of 800 | elapsed:    0.9s remaining:    0.6s\n",
      "[Parallel(n_jobs=6)]: Done 465 out of 800 | elapsed:    0.9s remaining:    0.6s\n",
      "[Parallel(n_jobs=6)]: Done 450 out of 800 | elapsed:    0.9s remaining:    0.7s\n",
      "[Parallel(n_jobs=6)]: Done 467 out of 800 | elapsed:    0.9s remaining:    0.6s\n",
      "[Parallel(n_jobs=6)]: Done 466 out of 800 | elapsed:    0.9s remaining:    0.6s\n",
      "[Parallel(n_jobs=6)]: Done 470 out of 800 | elapsed:    0.9s remaining:    0.6s\n",
      "[Parallel(n_jobs=6)]: Done 469 out of 800 | elapsed:    0.9s remaining:    0.6s\n",
      "[Parallel(n_jobs=6)]: Done 453 out of 800 | elapsed:    0.9s remaining:    0.7s\n",
      "[Parallel(n_jobs=6)]: Done 472 out of 800 | elapsed:    0.9s remaining:    0.6s\n",
      "[Parallel(n_jobs=6)]: Done 473 out of 800 | elapsed:    0.9s remaining:    0.6s\n",
      "[Parallel(n_jobs=6)]: Done 474 out of 800 | elapsed:    0.9s remaining:    0.6s\n",
      "[Parallel(n_jobs=6)]: Done 475 out of 800 | elapsed:    0.9s remaining:    0.6s\n",
      "[Parallel(n_jobs=6)]: Done 477 out of 800 | elapsed:    0.9s remaining:    0.6s\n",
      "[Parallel(n_jobs=6)]: Done 476 out of 800 | elapsed:    0.9s remaining:    0.6s\n",
      "[Parallel(n_jobs=6)]: Done 478 out of 800 | elapsed:    0.9s remaining:    0.6s\n",
      "[Parallel(n_jobs=6)]: Done 481 out of 800 | elapsed:    0.9s remaining:    0.6s\n",
      "[Parallel(n_jobs=6)]: Done 480 out of 800 | elapsed:    0.9s remaining:    0.6s\n",
      "[Parallel(n_jobs=6)]: Done 479 out of 800 | elapsed:    0.9s remaining:    0.6s\n",
      "[Parallel(n_jobs=6)]: Done 468 out of 800 | elapsed:    0.9s remaining:    0.6s\n",
      "[Parallel(n_jobs=6)]: Done 482 out of 800 | elapsed:    0.9s remaining:    0.6s\n",
      "[Parallel(n_jobs=6)]: Done 483 out of 800 | elapsed:    0.9s remaining:    0.6s\n",
      "[Parallel(n_jobs=6)]: Done 485 out of 800 | elapsed:    0.9s remaining:    0.6s\n",
      "[Parallel(n_jobs=6)]: Done 487 out of 800 | elapsed:    0.9s remaining:    0.6s\n",
      "[Parallel(n_jobs=6)]: Done 486 out of 800 | elapsed:    0.9s remaining:    0.6s\n",
      "[Parallel(n_jobs=6)]: Done 488 out of 800 | elapsed:    0.9s remaining:    0.6s\n",
      "[Parallel(n_jobs=6)]: Done 490 out of 800 | elapsed:    0.9s remaining:    0.5s\n",
      "[Parallel(n_jobs=6)]: Done 471 out of 800 | elapsed:    0.9s remaining:    0.6s\n",
      "[Parallel(n_jobs=6)]: Done 491 out of 800 | elapsed:    0.9s remaining:    0.5s\n",
      "[Parallel(n_jobs=6)]: Done 484 out of 800 | elapsed:    0.9s remaining:    0.6s\n",
      "[Parallel(n_jobs=6)]: Done 494 out of 800 | elapsed:    0.9s remaining:    0.5s\n",
      "[Parallel(n_jobs=6)]: Done 493 out of 800 | elapsed:    0.9s remaining:    0.5s\n",
      "[Parallel(n_jobs=6)]: Done 495 out of 800 | elapsed:    1.0s remaining:    0.6s\n",
      "[Parallel(n_jobs=6)]: Done 496 out of 800 | elapsed:    1.0s remaining:    0.5s\n",
      "[Parallel(n_jobs=6)]: Done 497 out of 800 | elapsed:    1.0s remaining:    0.5s\n",
      "[Parallel(n_jobs=6)]: Done 499 out of 800 | elapsed:    1.0s remaining:    0.5s\n",
      "[Parallel(n_jobs=6)]: Done 498 out of 800 | elapsed:    1.0s remaining:    0.5s\n",
      "[Parallel(n_jobs=6)]: Done 500 out of 800 | elapsed:    1.0s remaining:    0.5s\n",
      "[Parallel(n_jobs=6)]: Done 501 out of 800 | elapsed:    1.0s remaining:    0.5s\n",
      "[Parallel(n_jobs=6)]: Done 502 out of 800 | elapsed:    1.0s remaining:    0.5s\n",
      "[Parallel(n_jobs=6)]: Done 503 out of 800 | elapsed:    1.0s remaining:    0.5s\n",
      "[Parallel(n_jobs=6)]: Done 504 out of 800 | elapsed:    1.0s remaining:    0.5s\n",
      "[Parallel(n_jobs=6)]: Done 505 out of 800 | elapsed:    1.0s remaining:    0.5s\n",
      "[Parallel(n_jobs=6)]: Done 506 out of 800 | elapsed:    1.0s remaining:    0.5s\n",
      "[Parallel(n_jobs=6)]: Done 507 out of 800 | elapsed:    1.0s remaining:    0.5s\n",
      "[Parallel(n_jobs=6)]: Done 489 out of 800 | elapsed:    1.0s remaining:    0.6s\n",
      "[Parallel(n_jobs=6)]: Done 509 out of 800 | elapsed:    1.0s remaining:    0.5s\n",
      "[Parallel(n_jobs=6)]: Done 511 out of 800 | elapsed:    1.0s remaining:    0.5s\n",
      "[Parallel(n_jobs=6)]: Done 508 out of 800 | elapsed:    1.0s remaining:    0.5s\n",
      "[Parallel(n_jobs=6)]: Done 492 out of 800 | elapsed:    1.0s remaining:    0.6s\n"
     ]
    },
    {
     "name": "stdout",
     "output_type": "stream",
     "text": [
      "[Parallel(n_jobs=6)]: Done 512 out of 800 | elapsed:    1.0s remaining:    0.5s\n",
      "[Parallel(n_jobs=6)]: Done 515 out of 800 | elapsed:    1.0s remaining:    0.5s\n",
      "[Parallel(n_jobs=6)]: Done 516 out of 800 | elapsed:    1.0s remaining:    0.5s\n",
      "[Parallel(n_jobs=6)]: Done 513 out of 800 | elapsed:    1.0s remaining:    0.5s\n",
      "[Parallel(n_jobs=6)]: Done 517 out of 800 | elapsed:    1.0s remaining:    0.5s\n",
      "[Parallel(n_jobs=6)]: Done 518 out of 800 | elapsed:    1.0s remaining:    0.5s\n",
      "[Parallel(n_jobs=6)]: Done 520 out of 800 | elapsed:    1.0s remaining:    0.5s\n",
      "[Parallel(n_jobs=6)]: Done 519 out of 800 | elapsed:    1.0s remaining:    0.5s\n",
      "[Parallel(n_jobs=6)]: Done 521 out of 800 | elapsed:    1.0s remaining:    0.5s\n",
      "[Parallel(n_jobs=6)]: Done 522 out of 800 | elapsed:    1.0s remaining:    0.5s\n",
      "[Parallel(n_jobs=6)]: Done 523 out of 800 | elapsed:    1.0s remaining:    0.5s\n",
      "[Parallel(n_jobs=6)]: Done 525 out of 800 | elapsed:    1.0s remaining:    0.5s\n",
      "[Parallel(n_jobs=6)]: Done 526 out of 800 | elapsed:    1.0s remaining:    0.5s\n",
      "[Parallel(n_jobs=6)]: Done 524 out of 800 | elapsed:    1.0s remaining:    0.5s\n",
      "[Parallel(n_jobs=6)]: Done 510 out of 800 | elapsed:    1.0s remaining:    0.5s\n",
      "[Parallel(n_jobs=6)]: Done 527 out of 800 | elapsed:    1.0s remaining:    0.5s\n",
      "[Parallel(n_jobs=6)]: Done 531 out of 800 | elapsed:    1.0s remaining:    0.5s\n",
      "[Parallel(n_jobs=6)]: Done 528 out of 800 | elapsed:    1.0s remaining:    0.5s\n",
      "[Parallel(n_jobs=6)]: Done 514 out of 800 | elapsed:    1.0s remaining:    0.5s\n",
      "[Parallel(n_jobs=6)]: Done 529 out of 800 | elapsed:    1.0s remaining:    0.5s\n",
      "[Parallel(n_jobs=6)]: Done 533 out of 800 | elapsed:    1.0s remaining:    0.5s\n",
      "[Parallel(n_jobs=6)]: Done 535 out of 800 | elapsed:    1.0s remaining:    0.5s\n",
      "[Parallel(n_jobs=6)]: Done 534 out of 800 | elapsed:    1.0s remaining:    0.5s\n",
      "[Parallel(n_jobs=6)]: Done 536 out of 800 | elapsed:    1.0s remaining:    0.5s\n",
      "[Parallel(n_jobs=6)]: Done 537 out of 800 | elapsed:    1.0s remaining:    0.5s\n",
      "[Parallel(n_jobs=6)]: Done 539 out of 800 | elapsed:    1.0s remaining:    0.4s\n",
      "[Parallel(n_jobs=6)]: Done 538 out of 800 | elapsed:    1.0s remaining:    0.5s\n",
      "[Parallel(n_jobs=6)]: Done 540 out of 800 | elapsed:    1.0s remaining:    0.4s\n",
      "[Parallel(n_jobs=6)]: Done 541 out of 800 | elapsed:    1.0s remaining:    0.4s\n",
      "[Parallel(n_jobs=6)]: Done 543 out of 800 | elapsed:    1.0s remaining:    0.4s\n",
      "[Parallel(n_jobs=6)]: Done 542 out of 800 | elapsed:    1.0s remaining:    0.4s\n",
      "[Parallel(n_jobs=6)]: Done 530 out of 800 | elapsed:    1.0s remaining:    0.5s\n",
      "[Parallel(n_jobs=6)]: Done 544 out of 800 | elapsed:    1.0s remaining:    0.4s\n",
      "[Parallel(n_jobs=6)]: Done 532 out of 800 | elapsed:    1.0s remaining:    0.5s\n",
      "[Parallel(n_jobs=6)]: Done 547 out of 800 | elapsed:    1.1s remaining:    0.4s\n",
      "[Parallel(n_jobs=6)]: Done 548 out of 800 | elapsed:    1.1s remaining:    0.4s\n",
      "[Parallel(n_jobs=6)]: Done 549 out of 800 | elapsed:    1.1s remaining:    0.4s\n",
      "[Parallel(n_jobs=6)]: Done 551 out of 800 | elapsed:    1.1s remaining:    0.4s\n",
      "[Parallel(n_jobs=6)]: Done 550 out of 800 | elapsed:    1.1s remaining:    0.4s\n",
      "[Parallel(n_jobs=6)]: Done 553 out of 800 | elapsed:    1.1s remaining:    0.4s\n",
      "[Parallel(n_jobs=6)]: Done 552 out of 800 | elapsed:    1.1s remaining:    0.4s\n",
      "[Parallel(n_jobs=6)]: Done 555 out of 800 | elapsed:    1.1s remaining:    0.4s\n",
      "[Parallel(n_jobs=6)]: Done 546 out of 800 | elapsed:    1.1s remaining:    0.4s\n",
      "[Parallel(n_jobs=6)]: Done 557 out of 800 | elapsed:    1.1s remaining:    0.4s\n",
      "[Parallel(n_jobs=6)]: Done 559 out of 800 | elapsed:    1.1s remaining:    0.4s\n",
      "[Parallel(n_jobs=6)]: Done 558 out of 800 | elapsed:    1.1s remaining:    0.4s\n",
      "[Parallel(n_jobs=6)]: Done 556 out of 800 | elapsed:    1.1s remaining:    0.4s\n",
      "[Parallel(n_jobs=6)]: Done 545 out of 800 | elapsed:    1.1s remaining:    0.4s\n",
      "[Parallel(n_jobs=6)]: Done 561 out of 800 | elapsed:    1.1s remaining:    0.4s\n",
      "[Parallel(n_jobs=6)]: Done 562 out of 800 | elapsed:    1.1s remaining:    0.4s\n",
      "[Parallel(n_jobs=6)]: Done 563 out of 800 | elapsed:    1.1s remaining:    0.4s\n",
      "[Parallel(n_jobs=6)]: Done 564 out of 800 | elapsed:    1.1s remaining:    0.4s\n",
      "[Parallel(n_jobs=6)]: Done 567 out of 800 | elapsed:    1.1s remaining:    0.4s\n",
      "[Parallel(n_jobs=6)]: Done 565 out of 800 | elapsed:    1.1s remaining:    0.4s\n",
      "[Parallel(n_jobs=6)]: Done 566 out of 800 | elapsed:    1.1s remaining:    0.4s\n",
      "[Parallel(n_jobs=6)]: Done 554 out of 800 | elapsed:    1.1s remaining:    0.4s\n",
      "[Parallel(n_jobs=6)]: Done 560 out of 800 | elapsed:    1.1s remaining:    0.4s\n",
      "[Parallel(n_jobs=6)]: Done 568 out of 800 | elapsed:    1.1s remaining:    0.4s\n",
      "[Parallel(n_jobs=6)]: Done 569 out of 800 | elapsed:    1.1s remaining:    0.4s\n",
      "[Parallel(n_jobs=6)]: Done 570 out of 800 | elapsed:    1.1s remaining:    0.4s\n",
      "[Parallel(n_jobs=6)]: Done 573 out of 800 | elapsed:    1.1s remaining:    0.4s\n",
      "[Parallel(n_jobs=6)]: Done 574 out of 800 | elapsed:    1.1s remaining:    0.4s\n",
      "[Parallel(n_jobs=6)]: Done 575 out of 800 | elapsed:    1.1s remaining:    0.4s\n",
      "[Parallel(n_jobs=6)]: Done 576 out of 800 | elapsed:    1.1s remaining:    0.4s\n",
      "[Parallel(n_jobs=6)]: Done 577 out of 800 | elapsed:    1.1s remaining:    0.4s\n",
      "[Parallel(n_jobs=6)]: Done 578 out of 800 | elapsed:    1.1s remaining:    0.4s\n",
      "[Parallel(n_jobs=6)]: Done 579 out of 800 | elapsed:    1.1s remaining:    0.4s\n",
      "[Parallel(n_jobs=6)]: Done 580 out of 800 | elapsed:    1.1s remaining:    0.4s\n",
      "[Parallel(n_jobs=6)]: Done 581 out of 800 | elapsed:    1.1s remaining:    0.4s\n",
      "[Parallel(n_jobs=6)]: Done 582 out of 800 | elapsed:    1.1s remaining:    0.4s\n",
      "[Parallel(n_jobs=6)]: Done 584 out of 800 | elapsed:    1.1s remaining:    0.3s\n",
      "[Parallel(n_jobs=6)]: Done 572 out of 800 | elapsed:    1.1s remaining:    0.4s\n",
      "[Parallel(n_jobs=6)]: Done 585 out of 800 | elapsed:    1.1s remaining:    0.3s\n",
      "[Parallel(n_jobs=6)]: Done 586 out of 800 | elapsed:    1.1s remaining:    0.3s\n",
      "[Parallel(n_jobs=6)]: Done 587 out of 800 | elapsed:    1.1s remaining:    0.3s\n",
      "[Parallel(n_jobs=6)]: Done 588 out of 800 | elapsed:    1.1s remaining:    0.3s\n",
      "[Parallel(n_jobs=6)]: Done 590 out of 800 | elapsed:    1.1s remaining:    0.3s\n",
      "[Parallel(n_jobs=6)]: Done 591 out of 800 | elapsed:    1.1s remaining:    0.3s\n",
      "[Parallel(n_jobs=6)]: Done 571 out of 800 | elapsed:    1.1s remaining:    0.4s\n",
      "[Parallel(n_jobs=6)]: Done 593 out of 800 | elapsed:    1.1s remaining:    0.3s\n",
      "[Parallel(n_jobs=6)]: Done 592 out of 800 | elapsed:    1.2s remaining:    0.3s\n",
      "[Parallel(n_jobs=6)]: Done 595 out of 800 | elapsed:    1.2s remaining:    0.3s\n",
      "[Parallel(n_jobs=6)]: Done 594 out of 800 | elapsed:    1.2s remaining:    0.3s\n",
      "[Parallel(n_jobs=6)]: Done 596 out of 800 | elapsed:    1.2s remaining:    0.3s\n",
      "[Parallel(n_jobs=6)]: Done 597 out of 800 | elapsed:    1.2s remaining:    0.3s\n",
      "[Parallel(n_jobs=6)]: Done 598 out of 800 | elapsed:    1.2s remaining:    0.3s\n",
      "[Parallel(n_jobs=6)]: Done 599 out of 800 | elapsed:    1.2s remaining:    0.3s\n",
      "[Parallel(n_jobs=6)]: Done 600 out of 800 | elapsed:    1.2s remaining:    0.3s\n",
      "[Parallel(n_jobs=6)]: Done 601 out of 800 | elapsed:    1.2s remaining:    0.3s\n",
      "[Parallel(n_jobs=6)]: Done 603 out of 800 | elapsed:    1.2s remaining:    0.3s\n",
      "[Parallel(n_jobs=6)]: Done 604 out of 800 | elapsed:    1.2s remaining:    0.3s\n",
      "[Parallel(n_jobs=6)]: Done 602 out of 800 | elapsed:    1.2s remaining:    0.3s\n",
      "[Parallel(n_jobs=6)]: Done 589 out of 800 | elapsed:    1.2s remaining:    0.3s\n",
      "[Parallel(n_jobs=6)]: Done 583 out of 800 | elapsed:    1.2s remaining:    0.4s\n",
      "[Parallel(n_jobs=6)]: Done 606 out of 800 | elapsed:    1.2s remaining:    0.3s\n",
      "[Parallel(n_jobs=6)]: Done 608 out of 800 | elapsed:    1.2s remaining:    0.3s\n",
      "[Parallel(n_jobs=6)]: Done 609 out of 800 | elapsed:    1.2s remaining:    0.3s\n",
      "[Parallel(n_jobs=6)]: Done 610 out of 800 | elapsed:    1.2s remaining:    0.3s\n",
      "[Parallel(n_jobs=6)]: Done 607 out of 800 | elapsed:    1.2s remaining:    0.3s\n",
      "[Parallel(n_jobs=6)]: Done 611 out of 800 | elapsed:    1.2s remaining:    0.3s\n",
      "[Parallel(n_jobs=6)]: Done 613 out of 800 | elapsed:    1.2s remaining:    0.3s\n",
      "[Parallel(n_jobs=6)]: Done 614 out of 800 | elapsed:    1.2s remaining:    0.3s\n",
      "[Parallel(n_jobs=6)]: Done 617 out of 800 | elapsed:    1.2s remaining:    0.3s\n",
      "[Parallel(n_jobs=6)]: Done 616 out of 800 | elapsed:    1.2s remaining:    0.3s\n",
      "[Parallel(n_jobs=6)]: Done 618 out of 800 | elapsed:    1.2s remaining:    0.3s\n",
      "[Parallel(n_jobs=6)]: Done 612 out of 800 | elapsed:    1.2s remaining:    0.3s\n",
      "[Parallel(n_jobs=6)]: Done 620 out of 800 | elapsed:    1.2s remaining:    0.3s\n",
      "[Parallel(n_jobs=6)]: Done 621 out of 800 | elapsed:    1.2s remaining:    0.3s\n",
      "[Parallel(n_jobs=6)]: Done 619 out of 800 | elapsed:    1.2s remaining:    0.3s\n"
     ]
    },
    {
     "name": "stdout",
     "output_type": "stream",
     "text": [
      "[Parallel(n_jobs=6)]: Done 622 out of 800 | elapsed:    1.2s remaining:    0.3s\n",
      "[Parallel(n_jobs=6)]: Done 605 out of 800 | elapsed:    1.2s remaining:    0.3s\n",
      "[Parallel(n_jobs=6)]: Done 615 out of 800 | elapsed:    1.2s remaining:    0.3s\n",
      "[Parallel(n_jobs=6)]: Done 626 out of 800 | elapsed:    1.2s remaining:    0.3s\n",
      "[Parallel(n_jobs=6)]: Done 628 out of 800 | elapsed:    1.2s remaining:    0.3s\n",
      "[Parallel(n_jobs=6)]: Done 627 out of 800 | elapsed:    1.2s remaining:    0.3s\n",
      "[Parallel(n_jobs=6)]: Done 629 out of 800 | elapsed:    1.2s remaining:    0.3s\n",
      "[Parallel(n_jobs=6)]: Done 630 out of 800 | elapsed:    1.2s remaining:    0.3s\n",
      "[Parallel(n_jobs=6)]: Done 631 out of 800 | elapsed:    1.2s remaining:    0.2s\n",
      "[Parallel(n_jobs=6)]: Done 633 out of 800 | elapsed:    1.2s remaining:    0.2s\n",
      "[Parallel(n_jobs=6)]: Done 634 out of 800 | elapsed:    1.2s remaining:    0.3s\n",
      "[Parallel(n_jobs=6)]: Done 624 out of 800 | elapsed:    1.2s remaining:    0.3s\n",
      "[Parallel(n_jobs=6)]: Done 623 out of 800 | elapsed:    1.2s remaining:    0.3s\n",
      "[Parallel(n_jobs=6)]: Done 625 out of 800 | elapsed:    1.2s remaining:    0.3s\n",
      "[Parallel(n_jobs=6)]: Done 637 out of 800 | elapsed:    1.2s remaining:    0.2s\n",
      "[Parallel(n_jobs=6)]: Done 632 out of 800 | elapsed:    1.2s remaining:    0.3s\n",
      "[Parallel(n_jobs=6)]: Done 638 out of 800 | elapsed:    1.2s remaining:    0.2s\n",
      "[Parallel(n_jobs=6)]: Done 640 out of 800 | elapsed:    1.2s remaining:    0.2s\n",
      "[Parallel(n_jobs=6)]: Done 639 out of 800 | elapsed:    1.2s remaining:    0.2s\n",
      "[Parallel(n_jobs=6)]: Done 641 out of 800 | elapsed:    1.2s remaining:    0.2s\n",
      "[Parallel(n_jobs=6)]: Done 642 out of 800 | elapsed:    1.2s remaining:    0.2s\n",
      "[Parallel(n_jobs=6)]: Done 644 out of 800 | elapsed:    1.2s remaining:    0.2s\n",
      "[Parallel(n_jobs=6)]: Done 645 out of 800 | elapsed:    1.2s remaining:    0.2s\n",
      "[Parallel(n_jobs=6)]: Done 643 out of 800 | elapsed:    1.2s remaining:    0.2s\n",
      "[Parallel(n_jobs=6)]: Done 646 out of 800 | elapsed:    1.2s remaining:    0.2s\n",
      "[Parallel(n_jobs=6)]: Done 647 out of 800 | elapsed:    1.2s remaining:    0.2s\n",
      "[Parallel(n_jobs=6)]: Done 648 out of 800 | elapsed:    1.2s remaining:    0.2s\n",
      "[Parallel(n_jobs=6)]: Done 635 out of 800 | elapsed:    1.2s remaining:    0.2s\n",
      "[Parallel(n_jobs=6)]: Done 652 out of 800 | elapsed:    1.2s remaining:    0.2s\n",
      "[Parallel(n_jobs=6)]: Done 636 out of 800 | elapsed:    1.2s remaining:    0.2s\n",
      "[Parallel(n_jobs=6)]: Done 649 out of 800 | elapsed:    1.2s remaining:    0.2s\n",
      "[Parallel(n_jobs=6)]: Done 650 out of 800 | elapsed:    1.3s remaining:    0.2s\n",
      "[Parallel(n_jobs=6)]: Done 651 out of 800 | elapsed:    1.3s remaining:    0.2s\n",
      "[Parallel(n_jobs=6)]: Done 653 out of 800 | elapsed:    1.3s remaining:    0.2s\n",
      "[Parallel(n_jobs=6)]: Done 655 out of 800 | elapsed:    1.3s remaining:    0.2s\n",
      "[Parallel(n_jobs=6)]: Done 656 out of 800 | elapsed:    1.3s remaining:    0.2s\n",
      "[Parallel(n_jobs=6)]: Done 658 out of 800 | elapsed:    1.3s remaining:    0.2s\n",
      "[Parallel(n_jobs=6)]: Done 659 out of 800 | elapsed:    1.3s remaining:    0.2s\n",
      "[Parallel(n_jobs=6)]: Done 662 out of 800 | elapsed:    1.3s remaining:    0.2s\n",
      "[Parallel(n_jobs=6)]: Done 661 out of 800 | elapsed:    1.3s remaining:    0.2s\n",
      "[Parallel(n_jobs=6)]: Done 660 out of 800 | elapsed:    1.3s remaining:    0.2s\n",
      "[Parallel(n_jobs=6)]: Done 663 out of 800 | elapsed:    1.3s remaining:    0.2s\n",
      "[Parallel(n_jobs=6)]: Done 664 out of 800 | elapsed:    1.3s remaining:    0.2s\n",
      "[Parallel(n_jobs=6)]: Done 665 out of 800 | elapsed:    1.3s remaining:    0.2s\n",
      "[Parallel(n_jobs=6)]: Done 667 out of 800 | elapsed:    1.3s remaining:    0.2s\n",
      "[Parallel(n_jobs=6)]: Done 668 out of 800 | elapsed:    1.3s remaining:    0.2s\n",
      "[Parallel(n_jobs=6)]: Done 669 out of 800 | elapsed:    1.3s remaining:    0.2s\n",
      "[Parallel(n_jobs=6)]: Done 657 out of 800 | elapsed:    1.3s remaining:    0.2s\n",
      "[Parallel(n_jobs=6)]: Done 666 out of 800 | elapsed:    1.3s remaining:    0.2s\n",
      "[Parallel(n_jobs=6)]: Done 670 out of 800 | elapsed:    1.3s remaining:    0.2s\n",
      "[Parallel(n_jobs=6)]: Done 673 out of 800 | elapsed:    1.3s remaining:    0.2s\n",
      "[Parallel(n_jobs=6)]: Done 654 out of 800 | elapsed:    1.3s remaining:    0.2s\n",
      "[Parallel(n_jobs=6)]: Done 675 out of 800 | elapsed:    1.3s remaining:    0.2s\n",
      "[Parallel(n_jobs=6)]: Done 674 out of 800 | elapsed:    1.3s remaining:    0.2s\n",
      "[Parallel(n_jobs=6)]: Done 676 out of 800 | elapsed:    1.3s remaining:    0.2s\n",
      "[Parallel(n_jobs=6)]: Done 677 out of 800 | elapsed:    1.3s remaining:    0.2s\n",
      "[Parallel(n_jobs=6)]: Done 679 out of 800 | elapsed:    1.3s remaining:    0.2s\n",
      "[Parallel(n_jobs=6)]: Done 678 out of 800 | elapsed:    1.3s remaining:    0.2s\n",
      "[Parallel(n_jobs=6)]: Done 671 out of 800 | elapsed:    1.3s remaining:    0.2s\n",
      "[Parallel(n_jobs=6)]: Done 680 out of 800 | elapsed:    1.3s remaining:    0.2s\n",
      "[Parallel(n_jobs=6)]: Done 681 out of 800 | elapsed:    1.3s remaining:    0.1s\n",
      "[Parallel(n_jobs=6)]: Done 683 out of 800 | elapsed:    1.3s remaining:    0.1s\n",
      "[Parallel(n_jobs=6)]: Done 685 out of 800 | elapsed:    1.3s remaining:    0.1s\n",
      "[Parallel(n_jobs=6)]: Done 684 out of 800 | elapsed:    1.3s remaining:    0.1s\n",
      "[Parallel(n_jobs=6)]: Done 686 out of 800 | elapsed:    1.3s remaining:    0.1s\n",
      "[Parallel(n_jobs=6)]: Done 687 out of 800 | elapsed:    1.3s remaining:    0.1s\n",
      "[Parallel(n_jobs=6)]: Done 689 out of 800 | elapsed:    1.3s remaining:    0.1s\n",
      "[Parallel(n_jobs=6)]: Done 672 out of 800 | elapsed:    1.3s remaining:    0.2s\n",
      "[Parallel(n_jobs=6)]: Done 691 out of 800 | elapsed:    1.3s remaining:    0.1s\n",
      "[Parallel(n_jobs=6)]: Done 682 out of 800 | elapsed:    1.3s remaining:    0.1s\n",
      "[Parallel(n_jobs=6)]: Done 690 out of 800 | elapsed:    1.3s remaining:    0.1s\n",
      "[Parallel(n_jobs=6)]: Done 692 out of 800 | elapsed:    1.3s remaining:    0.1s\n",
      "[Parallel(n_jobs=6)]: Done 693 out of 800 | elapsed:    1.3s remaining:    0.1s\n",
      "[Parallel(n_jobs=6)]: Done 696 out of 800 | elapsed:    1.3s remaining:    0.1s\n",
      "[Parallel(n_jobs=6)]: Done 695 out of 800 | elapsed:    1.3s remaining:    0.1s\n",
      "[Parallel(n_jobs=6)]: Done 697 out of 800 | elapsed:    1.4s remaining:    0.1s\n",
      "[Parallel(n_jobs=6)]: Done 698 out of 800 | elapsed:    1.4s remaining:    0.1s\n",
      "[Parallel(n_jobs=6)]: Done 700 out of 800 | elapsed:    1.4s remaining:    0.1s\n",
      "[Parallel(n_jobs=6)]: Done 699 out of 800 | elapsed:    1.4s remaining:    0.1s\n",
      "[Parallel(n_jobs=6)]: Done 701 out of 800 | elapsed:    1.4s remaining:    0.1s\n",
      "[Parallel(n_jobs=6)]: Done 703 out of 800 | elapsed:    1.4s remaining:    0.1s\n",
      "[Parallel(n_jobs=6)]: Done 704 out of 800 | elapsed:    1.4s remaining:    0.1s\n",
      "[Parallel(n_jobs=6)]: Done 702 out of 800 | elapsed:    1.4s remaining:    0.1s\n",
      "[Parallel(n_jobs=6)]: Done 688 out of 800 | elapsed:    1.4s remaining:    0.1s\n",
      "[Parallel(n_jobs=6)]: Done 706 out of 800 | elapsed:    1.4s remaining:    0.1s\n",
      "[Parallel(n_jobs=6)]: Done 708 out of 800 | elapsed:    1.4s remaining:    0.1s\n",
      "[Parallel(n_jobs=6)]: Done 707 out of 800 | elapsed:    1.4s remaining:    0.1s\n",
      "[Parallel(n_jobs=6)]: Done 709 out of 800 | elapsed:    1.4s remaining:    0.1s\n",
      "[Parallel(n_jobs=6)]: Done 710 out of 800 | elapsed:    1.4s remaining:    0.1s\n",
      "[Parallel(n_jobs=6)]: Done 712 out of 800 | elapsed:    1.4s remaining:    0.1s\n",
      "[Parallel(n_jobs=6)]: Done 711 out of 800 | elapsed:    1.4s remaining:    0.1s\n",
      "[Parallel(n_jobs=6)]: Done 713 out of 800 | elapsed:    1.4s remaining:    0.1s\n",
      "[Parallel(n_jobs=6)]: Done 705 out of 800 | elapsed:    1.4s remaining:    0.1s\n",
      "[Parallel(n_jobs=6)]: Done 715 out of 800 | elapsed:    1.4s remaining:    0.1s\n",
      "[Parallel(n_jobs=6)]: Done 694 out of 800 | elapsed:    1.4s remaining:    0.1s\n",
      "[Parallel(n_jobs=6)]: Done 717 out of 800 | elapsed:    1.4s remaining:    0.1s\n",
      "[Parallel(n_jobs=6)]: Done 718 out of 800 | elapsed:    1.4s remaining:    0.1s\n",
      "[Parallel(n_jobs=6)]: Done 719 out of 800 | elapsed:    1.4s remaining:    0.1s\n",
      "[Parallel(n_jobs=6)]: Done 720 out of 800 | elapsed:    1.4s remaining:    0.1s\n",
      "[Parallel(n_jobs=6)]: Done 721 out of 800 | elapsed:    1.4s remaining:    0.1s\n",
      "[Parallel(n_jobs=6)]: Done 722 out of 800 | elapsed:    1.4s remaining:    0.1s\n",
      "[Parallel(n_jobs=6)]: Done 723 out of 800 | elapsed:    1.4s remaining:    0.1s\n",
      "[Parallel(n_jobs=6)]: Done 724 out of 800 | elapsed:    1.4s remaining:    0.1s\n",
      "[Parallel(n_jobs=6)]: Done 725 out of 800 | elapsed:    1.4s remaining:    0.1s\n",
      "[Parallel(n_jobs=6)]: Done 726 out of 800 | elapsed:    1.4s remaining:    0.1s\n",
      "[Parallel(n_jobs=6)]: Done 714 out of 800 | elapsed:    1.4s remaining:    0.1s\n",
      "[Parallel(n_jobs=6)]: Done 727 out of 800 | elapsed:    1.4s remaining:    0.0s\n"
     ]
    },
    {
     "name": "stdout",
     "output_type": "stream",
     "text": [
      "[Parallel(n_jobs=6)]: Done 728 out of 800 | elapsed:    1.4s remaining:    0.0s\n",
      "[Parallel(n_jobs=6)]: Done 730 out of 800 | elapsed:    1.4s remaining:    0.0s\n",
      "[Parallel(n_jobs=6)]: Done 731 out of 800 | elapsed:    1.4s remaining:    0.0s\n",
      "[Parallel(n_jobs=6)]: Done 732 out of 800 | elapsed:    1.4s remaining:    0.0s\n",
      "[Parallel(n_jobs=6)]: Done 716 out of 800 | elapsed:    1.4s remaining:    0.1s\n",
      "[Parallel(n_jobs=6)]: Done 735 out of 800 | elapsed:    1.4s remaining:    0.0s\n",
      "[Parallel(n_jobs=6)]: Done 729 out of 800 | elapsed:    1.4s remaining:    0.0s\n",
      "[Parallel(n_jobs=6)]: Done 737 out of 800 | elapsed:    1.4s remaining:    0.0s\n",
      "[Parallel(n_jobs=6)]: Done 738 out of 800 | elapsed:    1.4s remaining:    0.0s\n",
      "[Parallel(n_jobs=6)]: Done 739 out of 800 | elapsed:    1.4s remaining:    0.0s\n",
      "[Parallel(n_jobs=6)]: Done 740 out of 800 | elapsed:    1.4s remaining:    0.0s\n",
      "[Parallel(n_jobs=6)]: Done 741 out of 800 | elapsed:    1.4s remaining:    0.0s\n",
      "[Parallel(n_jobs=6)]: Done 743 out of 800 | elapsed:    1.4s remaining:    0.0s\n",
      "[Parallel(n_jobs=6)]: Done 742 out of 800 | elapsed:    1.4s remaining:    0.0s\n",
      "[Parallel(n_jobs=6)]: Done 733 out of 800 | elapsed:    1.4s remaining:    0.0s\n",
      "[Parallel(n_jobs=6)]: Done 745 out of 800 | elapsed:    1.4s remaining:    0.0s\n",
      "[Parallel(n_jobs=6)]: Done 746 out of 800 | elapsed:    1.4s remaining:    0.0s\n",
      "[Parallel(n_jobs=6)]: Done 736 out of 800 | elapsed:    1.4s remaining:    0.0s\n",
      "[Parallel(n_jobs=6)]: Done 744 out of 800 | elapsed:    1.4s remaining:    0.0s\n",
      "[Parallel(n_jobs=6)]: Done 747 out of 800 | elapsed:    1.4s remaining:    0.0s\n",
      "[Parallel(n_jobs=6)]: Done 734 out of 800 | elapsed:    1.4s remaining:    0.0s\n",
      "[Parallel(n_jobs=6)]: Done 750 out of 800 | elapsed:    1.4s remaining:    0.0s\n",
      "[Parallel(n_jobs=6)]: Done 752 out of 800 | elapsed:    1.4s remaining:    0.0s\n",
      "[Parallel(n_jobs=6)]: Done 748 out of 800 | elapsed:    1.5s remaining:    0.0s\n",
      "[Parallel(n_jobs=6)]: Done 751 out of 800 | elapsed:    1.5s remaining:    0.0s\n",
      "[Parallel(n_jobs=6)]: Done 754 out of 800 | elapsed:    1.5s remaining:    0.0s\n",
      "[Parallel(n_jobs=6)]: Done 755 out of 800 | elapsed:    1.5s remaining:    0.0s\n",
      "[Parallel(n_jobs=6)]: Done 756 out of 800 | elapsed:    1.5s remaining:    0.0s\n",
      "[Parallel(n_jobs=6)]: Done 757 out of 800 | elapsed:    1.5s remaining:    0.0s\n",
      "[Parallel(n_jobs=6)]: Done 758 out of 800 | elapsed:    1.5s remaining:    0.0s\n",
      "[Parallel(n_jobs=6)]: Done 759 out of 800 | elapsed:    1.5s remaining:    0.0s\n",
      "[Parallel(n_jobs=6)]: Done 761 out of 800 | elapsed:    1.5s remaining:    0.0s\n",
      "[Parallel(n_jobs=6)]: Done 760 out of 800 | elapsed:    1.5s remaining:    0.0s\n",
      "[Parallel(n_jobs=6)]: Done 753 out of 800 | elapsed:    1.5s remaining:    0.0s\n",
      "[Parallel(n_jobs=6)]: Done 764 out of 800 | elapsed:    1.5s remaining:    0.0s\n",
      "[Parallel(n_jobs=6)]: Done 762 out of 800 | elapsed:    1.5s remaining:    0.0s\n",
      "[Parallel(n_jobs=6)]: Done 749 out of 800 | elapsed:    1.5s remaining:    0.0s\n",
      "[Parallel(n_jobs=6)]: Done 765 out of 800 | elapsed:    1.5s remaining:    0.0s\n",
      "[Parallel(n_jobs=6)]: Done 766 out of 800 | elapsed:    1.5s remaining:    0.0s\n",
      "[Parallel(n_jobs=6)]: Done 768 out of 800 | elapsed:    1.5s remaining:    0.0s\n",
      "[Parallel(n_jobs=6)]: Done 769 out of 800 | elapsed:    1.5s remaining:    0.0s\n",
      "[Parallel(n_jobs=6)]: Done 771 out of 800 | elapsed:    1.5s remaining:    0.0s\n",
      "[Parallel(n_jobs=6)]: Done 763 out of 800 | elapsed:    1.5s remaining:    0.0s\n",
      "[Parallel(n_jobs=6)]: Done 772 out of 800 | elapsed:    1.5s remaining:    0.0s\n",
      "[Parallel(n_jobs=6)]: Done 773 out of 800 | elapsed:    1.5s remaining:    0.0s\n",
      "[Parallel(n_jobs=6)]: Done 767 out of 800 | elapsed:    1.5s remaining:    0.0s\n",
      "[Parallel(n_jobs=6)]: Done 775 out of 800 | elapsed:    1.5s remaining:    0.0s\n",
      "[Parallel(n_jobs=6)]: Done 770 out of 800 | elapsed:    1.5s remaining:    0.0s\n",
      "[Parallel(n_jobs=6)]: Done 776 out of 800 | elapsed:    1.5s remaining:    0.0s\n",
      "[Parallel(n_jobs=6)]: Done 777 out of 800 | elapsed:    1.5s remaining:    0.0s\n",
      "[Parallel(n_jobs=6)]: Done 778 out of 800 | elapsed:    1.5s remaining:    0.0s\n",
      "[Parallel(n_jobs=6)]: Done 781 out of 800 | elapsed:    1.5s remaining:    0.0s\n",
      "[Parallel(n_jobs=6)]: Done 780 out of 800 | elapsed:    1.5s remaining:    0.0s\n",
      "[Parallel(n_jobs=6)]: Done 784 out of 800 | elapsed:    1.5s remaining:    0.0s\n",
      "[Parallel(n_jobs=6)]: Done 783 out of 800 | elapsed:    1.5s remaining:    0.0s\n",
      "[Parallel(n_jobs=6)]: Done 785 out of 800 | elapsed:    1.5s remaining:    0.0s\n",
      "[Parallel(n_jobs=6)]: Done 779 out of 800 | elapsed:    1.5s remaining:    0.0s\n",
      "[Parallel(n_jobs=6)]: Done 774 out of 800 | elapsed:    1.5s remaining:    0.0s\n",
      "[Parallel(n_jobs=6)]: Done 788 out of 800 | elapsed:    1.5s remaining:    0.0s\n",
      "[Parallel(n_jobs=6)]: Done 787 out of 800 | elapsed:    1.5s remaining:    0.0s\n",
      "[Parallel(n_jobs=6)]: Done 789 out of 800 | elapsed:    1.5s remaining:    0.0s\n",
      "[Parallel(n_jobs=6)]: Done 790 out of 800 | elapsed:    1.5s remaining:    0.0s\n",
      "[Parallel(n_jobs=6)]: Done 791 out of 800 | elapsed:    1.5s remaining:    0.0s\n",
      "[Parallel(n_jobs=6)]: Done 792 out of 800 | elapsed:    1.5s remaining:    0.0s\n",
      "[Parallel(n_jobs=6)]: Done 793 out of 800 | elapsed:    1.5s remaining:    0.0s\n",
      "[Parallel(n_jobs=6)]: Done 794 out of 800 | elapsed:    1.5s remaining:    0.0s\n",
      "[Parallel(n_jobs=6)]: Done 782 out of 800 | elapsed:    1.5s remaining:    0.0s\n",
      "[Parallel(n_jobs=6)]: Done 795 out of 800 | elapsed:    1.5s remaining:    0.0s\n",
      "[Parallel(n_jobs=6)]: Done 798 out of 800 | elapsed:    1.5s remaining:    0.0s\n",
      "[Parallel(n_jobs=6)]: Done 786 out of 800 | elapsed:    1.5s remaining:    0.0s\n",
      "[Parallel(n_jobs=6)]: Done 799 out of 800 | elapsed:    1.5s remaining:    0.0s\n",
      "[Parallel(n_jobs=6)]: Done 796 out of 800 | elapsed:    1.5s remaining:    0.0s\n",
      "[Parallel(n_jobs=6)]: Done 797 out of 800 | elapsed:    1.5s remaining:    0.0s\n",
      "[Parallel(n_jobs=6)]: Done 800 out of 800 | elapsed:    1.5s finished\n"
     ]
    }
   ],
   "source": [
    "pred=RF.predict(test2.values)"
   ]
  },
  {
   "cell_type": "code",
   "execution_count": 98,
   "metadata": {},
   "outputs": [],
   "source": [
    "pred=round(np.exp(pred))\n",
    "#sub1=pd.concat([test,pd.Series(pred)],axis=1)\n",
    "sub4=pd.DataFrame({'ID':test.ID.values,'Upvotes':pred})\n",
    "sub4.to_csv('submission4.csv',index=False)"
   ]
  },
  {
   "cell_type": "code",
   "execution_count": null,
   "metadata": {},
   "outputs": [],
   "source": []
  },
  {
   "cell_type": "code",
   "execution_count": null,
   "metadata": {},
   "outputs": [],
   "source": []
  }
 ],
 "metadata": {
  "celltoolbar": "Raw Cell Format",
  "kernelspec": {
   "display_name": "Python 3",
   "language": "python",
   "name": "python3"
  },
  "language_info": {
   "codemirror_mode": {
    "name": "ipython",
    "version": 3
   },
   "file_extension": ".py",
   "mimetype": "text/x-python",
   "name": "python",
   "nbconvert_exporter": "python",
   "pygments_lexer": "ipython3",
   "version": "3.4.3"
  }
 },
 "nbformat": 4,
 "nbformat_minor": 2
}
